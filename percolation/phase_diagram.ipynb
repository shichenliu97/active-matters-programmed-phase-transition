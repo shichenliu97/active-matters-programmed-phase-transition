{
 "cells": [
  {
   "cell_type": "code",
   "execution_count": 2,
   "metadata": {},
   "outputs": [],
   "source": [
    "## processing\n",
    "import numpy as np\n",
    "import pandas as pd\n",
    "from scipy import optimize\n",
    "import scipy.stats as stats\n",
    "\n",
    "# visualization\n",
    "import matplotlib.pyplot as plt\n",
    "import seaborn as sns\n",
    "plt.rcParams.update({'font.size': 12})\n",
    "plt.rcParams['font.family'] = 'sans-serif'\n",
    "plt.rcParams['font.sans-serif'] = \"Arial\""
   ]
  },
  {
   "attachments": {},
   "cell_type": "markdown",
   "metadata": {},
   "source": [
    "## Functions"
   ]
  },
  {
   "cell_type": "code",
   "execution_count": 3,
   "metadata": {},
   "outputs": [],
   "source": [
    "def find_circle(x, xc, yc, r):\n",
    "    y_upper = yc + np.sqrt(r**2 - (x - xc)**2)\n",
    "    y_lower = yc - np.sqrt(r**2 - (x - xc)**2)\n",
    "    return y_upper, y_lower\n",
    "\n",
    "\n",
    "def in_circle(row, xc_2, yc_2, R_2):\n",
    "    x_coord = row['posX']\n",
    "    if x_coord < (xc_2 - R_2) or x_coord > (xc_2 + R_2):\n",
    "        return 0\n",
    "    else:\n",
    "        upper_bound, lower_bound = find_circle(x_coord, xc_2, yc_2, R_2)\n",
    "        y_coord = row['posY']\n",
    "        if y_coord > upper_bound or y_coord < lower_bound:\n",
    "            return 0\n",
    "        else:\n",
    "            return 1\n",
    "        \n",
    "\n",
    "def aster_fraction(row, dir_path):\n",
    "    run_index = int(row['run'])\n",
    "    len_run_index = len(str(run_index))\n",
    "    fpath = dir_path + 'run{}/fiber_position.txt'.format((4 - len_run_index)*'0' + str(run_index))\n",
    "\n",
    "    df = pd.read_table(fpath,\n",
    "                skiprows=5,\n",
    "                delim_whitespace=True,\n",
    "                names=['class', 'identity', 'length', 'posX', 'posY', 'dirX', 'dirY', 'endToEnd', 'cosinus', 'organizer'])\n",
    "    df = df.dropna(how='any')\n",
    "\n",
    "    x = df['posX']\n",
    "    y = df['posY']\n",
    "    data = np.vstack((x, y))\n",
    "\n",
    "    kde = stats.kde.gaussian_kde(data)\n",
    "    gx, gy = np.mgrid[x.min():x.max():128j, y.min():y.max():128j]\n",
    "    gxy = np.dstack((gx, gy)) # shape is (128, 128, 2)\n",
    "    z = np.apply_along_axis(kde, 2, gxy)\n",
    "    z = z.reshape(128, 128)\n",
    "\n",
    "    center_ix, center_iy = np.unravel_index(z.argmax(), z.shape)\n",
    "    center_x = center_ix / 128 * (x.max() - x.min()) + x.min()\n",
    "    center_y = center_iy / 128 * (y.max() - y.min()) + y.min()\n",
    "\n",
    "    df_short = df[df.length == 1]\n",
    "    col = df_short.apply(in_circle, args=(center_x, center_y, 1), axis=1)\n",
    "    df_short = df_short.assign(in_circle=col.values)\n",
    "\n",
    "    return sum(df_short['in_circle']) / len(df_short)"
   ]
  },
  {
   "attachments": {},
   "cell_type": "markdown",
   "metadata": {},
   "source": [
    "## Building the full phase diagram"
   ]
  },
  {
   "cell_type": "code",
   "execution_count": 4,
   "metadata": {},
   "outputs": [],
   "source": [
    "x_list = range(0, 81, 5)\n",
    "l_list = range(1, 36, 2)\n",
    "\n",
    "params = []\n",
    "for x in x_list:\n",
    "    for l in l_list:\n",
    "        params.append((x, l))\n",
    "\n",
    "df_list = []\n",
    "for i in range(306):\n",
    "    x, l = params[i]\n",
    "    rv = {'run': i, 'length': l, 'percent_long': x, 'globally_contract':0}\n",
    "    df_list.append(rv)\n",
    "df = pd.DataFrame(df_list)"
   ]
  },
  {
   "cell_type": "code",
   "execution_count": 4,
   "metadata": {},
   "outputs": [],
   "source": [
    "dir_path = '~/thomsonlab/simulation/percolation/density-search/series3/'\n",
    "col = df.apply(aster_fraction, axis=1, dir_path=dir_path)\n",
    "df = df.assign(in_aster_frac=col.values)\n",
    "df = df.groupby(['length', 'percent_long']).mean().reset_index()"
   ]
  },
  {
   "cell_type": "code",
   "execution_count": 5,
   "metadata": {},
   "outputs": [
    {
     "data": {
      "text/html": [
       "<div>\n",
       "<style scoped>\n",
       "    .dataframe tbody tr th:only-of-type {\n",
       "        vertical-align: middle;\n",
       "    }\n",
       "\n",
       "    .dataframe tbody tr th {\n",
       "        vertical-align: top;\n",
       "    }\n",
       "\n",
       "    .dataframe thead th {\n",
       "        text-align: right;\n",
       "    }\n",
       "</style>\n",
       "<table border=\"1\" class=\"dataframe\">\n",
       "  <thead>\n",
       "    <tr style=\"text-align: right;\">\n",
       "      <th></th>\n",
       "      <th>run</th>\n",
       "      <th>length</th>\n",
       "      <th>percent_long</th>\n",
       "      <th>globally_contract</th>\n",
       "    </tr>\n",
       "  </thead>\n",
       "  <tbody>\n",
       "    <tr>\n",
       "      <th>17</th>\n",
       "      <td>17</td>\n",
       "      <td>35</td>\n",
       "      <td>0</td>\n",
       "      <td>0</td>\n",
       "    </tr>\n",
       "    <tr>\n",
       "      <th>35</th>\n",
       "      <td>35</td>\n",
       "      <td>35</td>\n",
       "      <td>5</td>\n",
       "      <td>0</td>\n",
       "    </tr>\n",
       "    <tr>\n",
       "      <th>53</th>\n",
       "      <td>53</td>\n",
       "      <td>35</td>\n",
       "      <td>10</td>\n",
       "      <td>0</td>\n",
       "    </tr>\n",
       "    <tr>\n",
       "      <th>71</th>\n",
       "      <td>71</td>\n",
       "      <td>35</td>\n",
       "      <td>15</td>\n",
       "      <td>0</td>\n",
       "    </tr>\n",
       "    <tr>\n",
       "      <th>89</th>\n",
       "      <td>89</td>\n",
       "      <td>35</td>\n",
       "      <td>20</td>\n",
       "      <td>0</td>\n",
       "    </tr>\n",
       "    <tr>\n",
       "      <th>107</th>\n",
       "      <td>107</td>\n",
       "      <td>35</td>\n",
       "      <td>25</td>\n",
       "      <td>0</td>\n",
       "    </tr>\n",
       "    <tr>\n",
       "      <th>125</th>\n",
       "      <td>125</td>\n",
       "      <td>35</td>\n",
       "      <td>30</td>\n",
       "      <td>0</td>\n",
       "    </tr>\n",
       "    <tr>\n",
       "      <th>143</th>\n",
       "      <td>143</td>\n",
       "      <td>35</td>\n",
       "      <td>35</td>\n",
       "      <td>0</td>\n",
       "    </tr>\n",
       "    <tr>\n",
       "      <th>161</th>\n",
       "      <td>161</td>\n",
       "      <td>35</td>\n",
       "      <td>40</td>\n",
       "      <td>0</td>\n",
       "    </tr>\n",
       "    <tr>\n",
       "      <th>179</th>\n",
       "      <td>179</td>\n",
       "      <td>35</td>\n",
       "      <td>45</td>\n",
       "      <td>0</td>\n",
       "    </tr>\n",
       "    <tr>\n",
       "      <th>197</th>\n",
       "      <td>197</td>\n",
       "      <td>35</td>\n",
       "      <td>50</td>\n",
       "      <td>0</td>\n",
       "    </tr>\n",
       "    <tr>\n",
       "      <th>215</th>\n",
       "      <td>215</td>\n",
       "      <td>35</td>\n",
       "      <td>55</td>\n",
       "      <td>0</td>\n",
       "    </tr>\n",
       "    <tr>\n",
       "      <th>233</th>\n",
       "      <td>233</td>\n",
       "      <td>35</td>\n",
       "      <td>60</td>\n",
       "      <td>0</td>\n",
       "    </tr>\n",
       "    <tr>\n",
       "      <th>251</th>\n",
       "      <td>251</td>\n",
       "      <td>35</td>\n",
       "      <td>65</td>\n",
       "      <td>0</td>\n",
       "    </tr>\n",
       "    <tr>\n",
       "      <th>269</th>\n",
       "      <td>269</td>\n",
       "      <td>35</td>\n",
       "      <td>70</td>\n",
       "      <td>0</td>\n",
       "    </tr>\n",
       "    <tr>\n",
       "      <th>287</th>\n",
       "      <td>287</td>\n",
       "      <td>35</td>\n",
       "      <td>75</td>\n",
       "      <td>0</td>\n",
       "    </tr>\n",
       "    <tr>\n",
       "      <th>305</th>\n",
       "      <td>305</td>\n",
       "      <td>35</td>\n",
       "      <td>80</td>\n",
       "      <td>0</td>\n",
       "    </tr>\n",
       "  </tbody>\n",
       "</table>\n",
       "</div>"
      ],
      "text/plain": [
       "     run  length  percent_long  globally_contract\n",
       "17    17      35             0                  0\n",
       "35    35      35             5                  0\n",
       "53    53      35            10                  0\n",
       "71    71      35            15                  0\n",
       "89    89      35            20                  0\n",
       "107  107      35            25                  0\n",
       "125  125      35            30                  0\n",
       "143  143      35            35                  0\n",
       "161  161      35            40                  0\n",
       "179  179      35            45                  0\n",
       "197  197      35            50                  0\n",
       "215  215      35            55                  0\n",
       "233  233      35            60                  0\n",
       "251  251      35            65                  0\n",
       "269  269      35            70                  0\n",
       "287  287      35            75                  0\n",
       "305  305      35            80                  0"
      ]
     },
     "execution_count": 5,
     "metadata": {},
     "output_type": "execute_result"
    }
   ],
   "source": [
    "df[df.length == 35]"
   ]
  },
  {
   "cell_type": "code",
   "execution_count": 5,
   "metadata": {},
   "outputs": [],
   "source": [
    "def f(row):\n",
    "    if row['in_aster_frac'] > 0.5:\n",
    "        val = 1\n",
    "    else:\n",
    "        val = 0\n",
    "    return val"
   ]
  },
  {
   "cell_type": "code",
   "execution_count": 6,
   "metadata": {},
   "outputs": [],
   "source": [
    "df['globally_contract'] = df.apply(f, axis=1)"
   ]
  },
  {
   "cell_type": "code",
   "execution_count": 7,
   "metadata": {},
   "outputs": [],
   "source": [
    "df_global = df[df.globally_contract == 1]\n",
    "df_local = df[df.globally_contract == 0]"
   ]
  },
  {
   "cell_type": "code",
   "execution_count": 8,
   "metadata": {},
   "outputs": [
    {
     "data": {
      "image/png": "[encoded data removed]",
      "text/plain": [
       "<Figure size 432x432 with 1 Axes>"
      ]
     },
     "metadata": {},
     "output_type": "display_data"
    }
   ],
   "source": [
    "fig, ax = plt.subplots(figsize=(6,6))\n",
    "fig.patch.set_facecolor('white')\n",
    "ax.scatter(df_global['length'], df_global['percent_long'], color='black', marker='s')\n",
    "ax.scatter(df_local['length'], df_local['percent_long'], color='salmon', marker='o')\n",
    "ax.set_xlabel('Length of long MTs', fontsize=14)\n",
    "ax.set_ylabel('Percentage mass of long MTs', fontsize=14)\n",
    "ax.legend(['Global contraction', 'Local asters'], ncol=2, fontsize=14,\n",
    "          bbox_to_anchor=(0.9, 1.15), frameon=False)\n",
    "plt.tight_layout()\n",
    "plt.savefig('../figures/percolation-phase-diagram-discrete.png', dpi=300, bbox_inches='tight')\n",
    "plt.show()"
   ]
  },
  {
   "cell_type": "code",
   "execution_count": 9,
   "metadata": {},
   "outputs": [
    {
     "data": {
      "image/png": "[encoded data removed]",
      "text/plain": [
       "<Figure size 540x432 with 2 Axes>"
      ]
     },
     "metadata": {},
     "output_type": "display_data"
    }
   ],
   "source": [
    "df_pivoted = df.pivot(\"percent_long\", \"length\", \"in_aster_frac\")\n",
    "\n",
    "fig, ax = plt.subplots(figsize=(7.5,6))\n",
    "fig.patch.set_facecolor('white')\n",
    "ax = sns.heatmap(df_pivoted, cmap=sns.cm.rocket_r, cbar_kws={'label': 'Percentage of MTs in largest aster'})\n",
    "ax.invert_yaxis()\n",
    "ax.set_xlabel('Length of long MTs', fontsize=14)\n",
    "ax.set_ylabel('Percentage mass of long MTs', fontsize=14)\n",
    "ax.figure.axes[-1].yaxis.label.set_size(14)\n",
    "plt.savefig('../figures/percolation-phase-diagram.png', dpi=300)\n",
    "plt.show()"
   ]
  }
 ],
 "metadata": {
  "kernelspec": {
   "display_name": "base",
   "language": "python",
   "name": "python3"
  },
  "language_info": {
   "codemirror_mode": {
    "name": "ipython",
    "version": 3
   },
   "file_extension": ".py",
   "mimetype": "text/x-python",
   "name": "python",
   "nbconvert_exporter": "python",
   "pygments_lexer": "ipython3",
   "version": "3.9.12"
  },
  "orig_nbformat": 4,
  "vscode": {
   "interpreter": {
    "hash": "015b106b9e7b11c74dcc40152a35c73b3abfee4457c770490c39a2b8b9503267"
   }
  }
 },
 "nbformat": 4,
 "nbformat_minor": 2
}
