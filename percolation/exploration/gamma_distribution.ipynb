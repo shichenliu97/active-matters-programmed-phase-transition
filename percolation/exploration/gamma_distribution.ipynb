{
 "cells": [
  {
   "cell_type": "code",
   "execution_count": 1,
   "metadata": {},
   "outputs": [],
   "source": [
    "# processing\n",
    "import math\n",
    "import scipy.stats as stats\n",
    "import numpy as np\n",
    "import pandas as pd\n",
    "\n",
    "# visualization\n",
    "import matplotlib.pyplot as plt\n",
    "import seaborn as sns\n",
    "plt.rcParams.update({'font.size': 12})\n",
    "plt.rcParams['font.family'] = 'sans-serif'\n",
    "plt.rcParams['font.sans-serif'] = \"Arial\""
   ]
  },
  {
   "cell_type": "code",
   "execution_count": 2,
   "metadata": {},
   "outputs": [],
   "source": [
    "def find_center(df):\n",
    "    x = df['posX']\n",
    "    y = df['posY']\n",
    "    data = np.vstack((x, y))\n",
    "\n",
    "    kde = stats.kde.gaussian_kde(data)\n",
    "    gx, gy = np.mgrid[x.min():x.max():128j, y.min():y.max():128j]\n",
    "    gxy = np.dstack((gx, gy)) # shape is (128, 128, 2)\n",
    "    z = np.apply_along_axis(kde, 2, gxy)\n",
    "    z = z.reshape(128, 128)\n",
    "\n",
    "    center_ix, center_iy = np.unravel_index(z.argmax(), z.shape)\n",
    "    center_x = center_ix / 128 * (x.max() - x.min()) + x.min()\n",
    "    center_y = center_iy / 128 * (y.max() - y.min()) + y.min()\n",
    "    return center_x, center_y"
   ]
  },
  {
   "cell_type": "code",
   "execution_count": 3,
   "metadata": {},
   "outputs": [],
   "source": [
    "def find_circle(x, xc, yc, r):\n",
    "    y_upper = yc + np.sqrt(r**2 - (x - xc)**2)\n",
    "    y_lower = yc - np.sqrt(r**2 - (x - xc)**2)\n",
    "    return y_upper, y_lower"
   ]
  },
  {
   "cell_type": "code",
   "execution_count": 4,
   "metadata": {},
   "outputs": [],
   "source": [
    "def in_circle(row, xc_2, yc_2, R_2):\n",
    "    x_coord = row['posX']\n",
    "    if x_coord < (xc_2 - R_2) or x_coord > (xc_2 + R_2):\n",
    "        return 0\n",
    "    else:\n",
    "        upper_bound, lower_bound = find_circle(x_coord, xc_2, yc_2, R_2)\n",
    "        y_coord = row['posY']\n",
    "        if y_coord > upper_bound or y_coord < lower_bound:\n",
    "            return 0\n",
    "        else:\n",
    "            return 1"
   ]
  },
  {
   "cell_type": "code",
   "execution_count": 5,
   "metadata": {},
   "outputs": [],
   "source": [
    "def get_alpha(dirX, dirY, L):\n",
    "    alpha = L/2 / math.sqrt(dirX**2 + dirY**2)\n",
    "    return alpha"
   ]
  },
  {
   "cell_type": "code",
   "execution_count": 6,
   "metadata": {},
   "outputs": [],
   "source": [
    "def get_end_coords(posX, posY, dirX, dirY, alpha):\n",
    "    startX = posX - alpha * dirX\n",
    "    startY = posY - alpha * dirY\n",
    "    return startX, startY"
   ]
  },
  {
   "cell_type": "code",
   "execution_count": 7,
   "metadata": {},
   "outputs": [],
   "source": [
    "def get_nodes(posX, posY, dirX, dirY, L):\n",
    "    alpha = get_alpha(dirX, dirY, L)\n",
    "    startX, startY = get_end_coords(posX, posY, dirX, dirY, alpha)\n",
    "    segmentX = 2 * alpha * dirX / L\n",
    "    segmentY = 2 * alpha * dirY / L\n",
    "\n",
    "    nodes = [(startX, startY)]\n",
    "    for i in range(1, L+1):\n",
    "        nodeX = startX + i * segmentX\n",
    "        nodeY = startY + i * segmentY\n",
    "        nodes.append((nodeX, nodeY))\n",
    "\n",
    "    return nodes"
   ]
  },
  {
   "cell_type": "code",
   "execution_count": 8,
   "metadata": {},
   "outputs": [],
   "source": [
    "def cartesian_dist(n1, n2):\n",
    "    return math.sqrt((n1[0] - n2[0])**2 + (n1[1] - n2[1])**2)"
   ]
  },
  {
   "cell_type": "code",
   "execution_count": 9,
   "metadata": {},
   "outputs": [],
   "source": [
    "def get_min_dist(nodes1, nodes2):\n",
    "    min_dist = 10**6\n",
    "    for n1 in nodes1:\n",
    "        for n2 in nodes2:\n",
    "            d = cartesian_dist(n1, n2)\n",
    "            if d < min_dist:\n",
    "                min_dist = d\n",
    "    return min_dist"
   ]
  },
  {
   "cell_type": "code",
   "execution_count": 10,
   "metadata": {},
   "outputs": [],
   "source": [
    "def get_mean_min_dist(df):\n",
    "    microtubules = []\n",
    "    for index, row in df.iterrows():\n",
    "        posX = row['posX']\n",
    "        posY = row['posY']\n",
    "        dirX = row['dirX']\n",
    "        dirY = row['dirY']\n",
    "        L = int(row['length'])\n",
    "        nodes = get_nodes(posX, posY, dirX, dirY, L)\n",
    "        microtubules.append(nodes)\n",
    "    \n",
    "    list_min_dist = []\n",
    "    for i, nodes1 in enumerate(microtubules):\n",
    "        for j, nodes2 in enumerate(microtubules[(i+1):]):\n",
    "            min_dist = get_min_dist(nodes1, nodes2)\n",
    "            list_min_dist.append(min_dist)\n",
    "    \n",
    "    return np.mean(list_min_dist)"
   ]
  },
  {
   "cell_type": "code",
   "execution_count": 11,
   "metadata": {},
   "outputs": [],
   "source": [
    "df = pd.read_table('~/thomsonlab/simulation/ms-simulations/1d-phase/testruns/run0019/fiber_position.txt',\n",
    "                skiprows=5,\n",
    "                delim_whitespace=True,\n",
    "                names=['class', 'identity', 'length', 'posX', 'posY', 'dirX', 'dirY', 'endToEnd', 'cosinus', 'organizer'])\n",
    "df = df.dropna(how='any')"
   ]
  },
  {
   "cell_type": "code",
   "execution_count": 12,
   "metadata": {},
   "outputs": [
    {
     "data": {
      "image/png": "[encoded data removed]",
      "text/plain": [
       "<Figure size 360x360 with 1 Axes>"
      ]
     },
     "metadata": {},
     "output_type": "display_data"
    }
   ],
   "source": [
    "fig, ax = plt.subplots(figsize=(5,5))\n",
    "fig.patch.set_facecolor('white')\n",
    "ax.set_xlabel('x coordinate', fontsize=14)\n",
    "ax.set_ylabel('y coordinate', fontsize=14)\n",
    "\n",
    "sns.kdeplot(x=df['posX'], y=df['posY'], cmap=\"Reds\", shade=True, bw_adjust=.5)\n",
    "\n",
    "center_x, center_y = find_center(df)\n",
    "ax.scatter([center_x], [center_y], color='blue')\n",
    "\n",
    "plt.show()"
   ]
  },
  {
   "cell_type": "code",
   "execution_count": 13,
   "metadata": {},
   "outputs": [],
   "source": [
    "aster_fraction = []\n",
    "mean_min_dist = []\n",
    "for i in range(0, 20):\n",
    "    num_zeros = 4 - len(str(i))\n",
    "    fpath = '~/thomsonlab/simulation/ms-simulations/1d-phase/testruns/run{}/fiber_position.txt'.format(num_zeros * '0' + str(i))\n",
    "    \n",
    "    df = pd.read_table(fpath,\n",
    "                skiprows=5,\n",
    "                delim_whitespace=True,\n",
    "                names=['class', 'identity', 'length', 'posX', 'posY', 'dirX', 'dirY', 'endToEnd', 'cosinus', 'organizer'])\n",
    "    df = df.dropna(how='any')\n",
    "\n",
    "    center_x, center_y = find_center(df)\n",
    "\n",
    "    #df_short = df[df.length <= 5]\n",
    "    col = df.apply(in_circle, args=(center_x, center_y, 5), axis=1)\n",
    "    df = df.assign(in_circle=col.values)\n",
    "\n",
    "    aster_fraction.append(sum(df['in_circle']) / len(df))\n",
    "    mean_min_dist.append(get_mean_min_dist(df))"
   ]
  },
  {
   "cell_type": "code",
   "execution_count": 14,
   "metadata": {},
   "outputs": [
    {
     "data": {
      "image/png": "[encoded data removed]",
      "text/plain": [
       "<Figure size 504x432 with 2 Axes>"
      ]
     },
     "metadata": {},
     "output_type": "display_data"
    }
   ],
   "source": [
    "fig, axes = plt.subplots(2, 1, figsize=(7,6), sharex=True)\n",
    "ax1, ax2 = axes\n",
    "fig.patch.set_facecolor('white')\n",
    "\n",
    "scale = np.arange(0.25, 5.1, 0.25)\n",
    "ax1.scatter(scale, aster_fraction, color='rebeccapurple')\n",
    "ax1.set_xticks(np.arange(0.5, 5.1, 0.5))\n",
    "ax1.set_ylabel('Fraction of short MTs in the aster')\n",
    "\n",
    "ax2.scatter(scale, mean_min_dist, color='forestgreen')\n",
    "ax2.set_xlabel('Scale of gamma distribution')\n",
    "ax2.set_ylabel('Mean minimum distance')\n",
    "\n",
    "plt.tight_layout()\n",
    "plt.show()"
   ]
  },
  {
   "cell_type": "code",
   "execution_count": null,
   "metadata": {},
   "outputs": [],
   "source": []
  }
 ],
 "metadata": {
  "kernelspec": {
   "display_name": "base",
   "language": "python",
   "name": "python3"
  },
  "language_info": {
   "codemirror_mode": {
    "name": "ipython",
    "version": 3
   },
   "file_extension": ".py",
   "mimetype": "text/x-python",
   "name": "python",
   "nbconvert_exporter": "python",
   "pygments_lexer": "ipython3",
   "version": "3.9.12"
  },
  "orig_nbformat": 4
 },
 "nbformat": 4,
 "nbformat_minor": 2
}
