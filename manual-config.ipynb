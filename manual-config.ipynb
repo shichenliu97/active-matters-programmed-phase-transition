{
 "cells": [
  {
   "cell_type": "code",
   "execution_count": 1,
   "metadata": {},
   "outputs": [],
   "source": [
    "## processing\n",
    "import random\n",
    "import numpy as np\n",
    "\n",
    "## visualization\n",
    "import matplotlib.pyplot as plt"
   ]
  },
  {
   "attachments": {},
   "cell_type": "markdown",
   "metadata": {},
   "source": [
    "## Defining microtubule length using negative binomial distribution"
   ]
  },
  {
   "cell_type": "code",
   "execution_count": 12,
   "metadata": {},
   "outputs": [],
   "source": [
    "lMT = np.random.negative_binomial(1, 0.4, size=100) + 1"
   ]
  },
  {
   "cell_type": "code",
   "execution_count": 13,
   "metadata": {},
   "outputs": [],
   "source": [
    "d_lMT = {}\n",
    "for i in range(1, max(lMT)+1):\n",
    "    d_lMT[i] = np.count_nonzero(lMT == i)"
   ]
  },
  {
   "cell_type": "code",
   "execution_count": 14,
   "metadata": {},
   "outputs": [
    {
     "data": {
      "image/png": "[encoded data removed]",
      "text/plain": [
       "<Figure size 432x288 with 1 Axes>"
      ]
     },
     "metadata": {
      "needs_background": "light"
     },
     "output_type": "display_data"
    }
   ],
   "source": [
    "fig, ax = plt.subplots()\n",
    "ax.bar(d_lMT.keys(), d_lMT.values(), align='center', alpha=0.5)\n",
    "plt.show()"
   ]
  },
  {
   "cell_type": "code",
   "execution_count": 2,
   "metadata": {},
   "outputs": [],
   "source": [
    "file = open('template.cym', 'r')\n",
    "lines = file.readlines()"
   ]
  },
  {
   "cell_type": "code",
   "execution_count": null,
   "metadata": {},
   "outputs": [],
   "source": [
    "with open('config.cym', 'w') as f:\n",
    "    for line in lines[:28]:\n",
    "        f.write(line)\n",
    "    for length,count in d_lMT.items():\n",
    "        f.write('new {} microtubule'.format(count))\n",
    "        f.write(\"\\n{\\n\")\n",
    "        f.write(\"\\tlength = {}\".format(length))\n",
    "        f.write(\"\\n}\\n\\n\")\n",
    "    for line in lines[33:]:\n",
    "        f.write(line)"
   ]
  },
  {
   "attachments": {},
   "cell_type": "markdown",
   "metadata": {},
   "source": [
    "## Orientation sorting"
   ]
  },
  {
   "cell_type": "code",
   "execution_count": 2,
   "metadata": {},
   "outputs": [],
   "source": [
    "positions = []\n",
    "gap = 3\n",
    "for i in range(0, 16, gap):\n",
    "    positions.append('{} 0 0'.format(i))\n",
    "    positions.append('0 {} 0'.format(i))\n",
    "    positions.append('{} {} 0'.format(i, i))"
   ]
  },
  {
   "cell_type": "code",
   "execution_count": 7,
   "metadata": {},
   "outputs": [
    {
     "data": {
      "text/plain": [
       "55"
      ]
     },
     "execution_count": 7,
     "metadata": {},
     "output_type": "execute_result"
    }
   ],
   "source": [
    "num_MT = int(1000 / len(positions))\n",
    "num_MT"
   ]
  },
  {
   "cell_type": "code",
   "execution_count": 10,
   "metadata": {},
   "outputs": [],
   "source": [
    "orientations = []\n",
    "for i in range(1, 11):\n",
    "    for j in range(1, 11):\n",
    "        orientations.append('{} {} 0'.format(i, j))"
   ]
  },
  {
   "cell_type": "code",
   "execution_count": 22,
   "metadata": {},
   "outputs": [],
   "source": [
    "with open('config0002.cym', 'w') as f:\n",
    "    for line in lines[:28]:\n",
    "        f.write(line)\n",
    "    for i in range(3):\n",
    "        for position in positions:\n",
    "            orientation = random.choice(orientations)\n",
    "            f.write('new {} microtubule\\n'.format(num_MT))\n",
    "            f.write(\"{\\n\")\n",
    "            f.write(\"\\tlength = 1\\n\")\n",
    "            f.write(\"\\tposition = {}\\n\".format(position))\n",
    "            f.write(\"\\torientation = {}\\n\".format(orientation))\n",
    "            f.write(\"\\n}\\n\\n\")\n",
    "    for line in lines[33:]:\n",
    "        f.write(line)"
   ]
  }
 ],
 "metadata": {
  "kernelspec": {
   "display_name": "base",
   "language": "python",
   "name": "python3"
  },
  "language_info": {
   "codemirror_mode": {
    "name": "ipython",
    "version": 3
   },
   "file_extension": ".py",
   "mimetype": "text/x-python",
   "name": "python",
   "nbconvert_exporter": "python",
   "pygments_lexer": "ipython3",
   "version": "3.9.12"
  },
  "orig_nbformat": 4,
  "vscode": {
   "interpreter": {
    "hash": "015b106b9e7b11c74dcc40152a35c73b3abfee4457c770490c39a2b8b9503267"
   }
  }
 },
 "nbformat": 4,
 "nbformat_minor": 2
}
