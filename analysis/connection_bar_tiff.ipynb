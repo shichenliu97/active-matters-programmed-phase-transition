{
  "cells": [
    {
      "attachments": {},
      "cell_type": "markdown",
      "metadata": {
        "colab_type": "text",
        "id": "view-in-github"
      },
      "source": [
        "<a href=\"https://colab.research.google.com/github/shichenliu97/active-matters-programmed-phase-transition/blob/main/connection_bar_tiff.ipynb\" target=\"_parent\"><img src=\"https://colab.research.google.com/assets/colab-badge.svg\" alt=\"Open In Colab\"/></a>"
      ]
    },
    {
      "cell_type": "code",
      "execution_count": null,
      "metadata": {
        "id": "QiTqWQFB1DWc"
      },
      "outputs": [],
      "source": [
        "import numpy as np\n",
        "import cv2\n",
        "import os\n"
      ]
    },
    {
      "cell_type": "code",
      "execution_count": null,
      "metadata": {
        "colab": {
          "base_uri": "https://localhost:8080/"
        },
        "id": "eb1ddZhQ2RDb",
        "outputId": "4e079079-6836-4b59-d161-2234f1c9653f"
      },
      "outputs": [
        {
          "name": "stdout",
          "output_type": "stream",
          "text": [
            "Mounted at /content/drive\n"
          ]
        }
      ],
      "source": [
        "from google.colab import drive\n",
        "drive.mount('/content/drive')"
      ]
    },
    {
      "attachments": {},
      "cell_type": "markdown",
      "metadata": {
        "id": "CLqrmnRNWzII"
      },
      "source": [
        "### Identify size and position of the bars"
      ]
    },
    {
      "cell_type": "code",
      "execution_count": null,
      "metadata": {
        "colab": {
          "base_uri": "https://localhost:8080/"
        },
        "id": "d-xBJ5A_1D2D",
        "outputId": "6da4876c-d4e3-46ca-e6a7-dac08673bc45"
      },
      "outputs": [
        {
          "data": {
            "text/plain": [
              "array([[0, 0, 0, ..., 0, 0, 0],\n",
              "       [0, 0, 0, ..., 0, 0, 0],\n",
              "       [0, 0, 0, ..., 0, 0, 0],\n",
              "       ...,\n",
              "       [0, 0, 0, ..., 0, 0, 0],\n",
              "       [0, 0, 0, ..., 0, 0, 0],\n",
              "       [0, 0, 0, ..., 0, 0, 0]], dtype=uint8)"
            ]
          },
          "execution_count": 3,
          "metadata": {},
          "output_type": "execute_result"
        }
      ],
      "source": [
        "path = '/content/drive/MyDrive/connection_of_bars_masks'\n",
        "\n",
        "# size of canvas\n",
        "(HB, WB) = (800, 1280) #size of the canvas\n",
        "\n",
        "#size of the bar(s)\n",
        "W1 = 300\n",
        "H1 = 50\n",
        "thresh = 127\n",
        "\n",
        "# distance = distance between two bars / 2\n",
        "distance = [300, 250, 200, 150, 100, 50, 25, 18] \n",
        "\n",
        "# Initial rectangle center matrix\n",
        "\n",
        "R1_c = np.zeros((1, 2))\n",
        "R2_c = np.zeros((1, 2))\n",
        "\n",
        "# Initial cv2 poly matices\n",
        "R1 = np.zeros((4, 2))\n",
        "R2 = np.zeros((4, 2))\n",
        "\n",
        "n = 0\n",
        "\n",
        "for i in range(len(distance)):\n",
        "\n",
        "  n += 1\n",
        "\n",
        "  R1_c = np.array([WB/2 - W1/2 - distance[i], HB/2]) #center of the bar\n",
        "  R2_c = np.array([WB/2 + distance[i] + W1/2, HB/2])\n",
        "  \n",
        "  R1 = np.array([[R1_c[0] - W1 / 2, R1_c[1] + H1/2],\n",
        "               [R1_c[0] - W1 / 2, R1_c[1] - H1/2],\n",
        "               [R1_c[0] + W1 / 2, R1_c[1] - H1/2],\n",
        "               [R1_c[0] + W1 / 2, R1_c[1] + H1/2]])\n",
        "  \n",
        "  R2 = np.array([[R2_c[0] - W1 / 2, R2_c[1] + H1/2],\n",
        "               [R2_c[0] - W1 / 2, R2_c[1] - H1/2],\n",
        "               [R2_c[0] + W1 / 2, R2_c[1] - H1/2],\n",
        "               [R2_c[0] + W1 / 2, R2_c[1] + H1/2]])\n",
        "  \n",
        "  img = np.zeros( (HB, WB), dtype = np.uint8 )\n",
        "  cv2.fillPoly(img, np.int32([R1]), color=(255,255,255))\n",
        "  cv2.fillPoly(img, np.int32([R2]), color=(255,255,255))\n",
        "  im_bw = cv2.threshold(img, thresh, 255, cv2.THRESH_BINARY)[1]\n",
        "  filename = os.path.join(path , 'dist_bar%d.tiff' %n)\n",
        "  cv2.imwrite(filename, im_bw)\n",
        "\n",
        "\n",
        "im_bw"
      ]
    },
    {
      "cell_type": "code",
      "execution_count": null,
      "metadata": {
        "colab": {
          "base_uri": "https://localhost:8080/"
        },
        "id": "kpy7M1bVVdqw",
        "outputId": "c7ccb795-d15b-4528-cc92-86b1a9e10de2"
      },
      "outputs": [
        {
          "data": {
            "text/plain": [
              "array([[322., 425.],\n",
              "       [322., 375.],\n",
              "       [622., 375.],\n",
              "       [622., 425.]])"
            ]
          },
          "execution_count": 4,
          "metadata": {},
          "output_type": "execute_result"
        }
      ],
      "source": [
        "R1"
      ]
    },
    {
      "attachments": {},
      "cell_type": "markdown",
      "metadata": {
        "id": "kc0HQ3PInr9A"
      },
      "source": [
        "## Now non-connection bars with circle in the middle\n",
        "\n",
        "100 um radius"
      ]
    },
    {
      "cell_type": "code",
      "execution_count": null,
      "metadata": {
        "colab": {
          "base_uri": "https://localhost:8080/"
        },
        "id": "REJVcUIpVeDT",
        "outputId": "d9cf956b-f02a-4a8a-b9dd-07de16921df9"
      },
      "outputs": [
        {
          "data": {
            "text/plain": [
              "array([[0, 0, 0, ..., 0, 0, 0],\n",
              "       [0, 0, 0, ..., 0, 0, 0],\n",
              "       [0, 0, 0, ..., 0, 0, 0],\n",
              "       ...,\n",
              "       [0, 0, 0, ..., 0, 0, 0],\n",
              "       [0, 0, 0, ..., 0, 0, 0],\n",
              "       [0, 0, 0, ..., 0, 0, 0]], dtype=uint8)"
            ]
          },
          "execution_count": 13,
          "metadata": {},
          "output_type": "execute_result"
        }
      ],
      "source": [
        "path = '/content/drive/MyDrive/connection_of_bars_masks'\n",
        "\n",
        "# size of canvas\n",
        "(HB, WB) = (800, 1280) #size of the canvas\n",
        "\n",
        "#size of the bar(s)\n",
        "W1 = 300\n",
        "H1 = 50\n",
        "thresh = 127\n",
        "\n",
        "# distance = distance between two bars / 2\n",
        "distance = [300, 250, 200, 150, 100, 50, 25, 18] \n",
        "\n",
        "# Initial rectangle center matrix\n",
        "\n",
        "R1_c = np.zeros((1, 2))\n",
        "R2_c = np.zeros((1, 2))\n",
        "\n",
        "# Initial cv2 poly matices\n",
        "R1 = np.zeros((4, 2))\n",
        "R2 = np.zeros((4, 2))\n",
        "\n",
        "n = 0\n",
        "\n",
        "for i in range(len(distance)):\n",
        "\n",
        "  n += 1\n",
        "\n",
        "  R1_c = np.array([WB/2 - W1/2 - distance[i], HB/2]) #center of the bar\n",
        "  R2_c = np.array([WB/2 + distance[i] + W1/2, HB/2])\n",
        "  \n",
        "  R1 = np.array([[R1_c[0] - W1 / 2, R1_c[1] + H1/2],\n",
        "               [R1_c[0] - W1 / 2, R1_c[1] - H1/2],\n",
        "               [R1_c[0] + W1 / 2, R1_c[1] - H1/2],\n",
        "               [R1_c[0] + W1 / 2, R1_c[1] + H1/2]])\n",
        "  \n",
        "  R2 = np.array([[R2_c[0] - W1 / 2, R2_c[1] + H1/2],\n",
        "               [R2_c[0] - W1 / 2, R2_c[1] - H1/2],\n",
        "               [R2_c[0] + W1 / 2, R2_c[1] - H1/2],\n",
        "               [R2_c[0] + W1 / 2, R2_c[1] + H1/2]])\n",
        "  \n",
        "  img = np.zeros( (HB, WB), dtype = np.uint8 )\n",
        "  cv2.fillPoly(img, np.int32([R1]), color=(255,255,255))\n",
        "  cv2.fillPoly(img, np.int32([R2]), color=(255,255,255))\n",
        "  center_coordinates = (640, 400)\n",
        "  cv2.circle(img, center_coordinates, 35, color=(255,255,255), thickness=-1)\n",
        "  im_bw = cv2.threshold(img, thresh, 255, cv2.THRESH_BINARY)[1]\n",
        "  filename = os.path.join(path , 'dist_bar%d_circle.tiff' %n)\n",
        "  cv2.imwrite(filename, im_bw)\n",
        "\n",
        "\n",
        "im_bw\n"
      ]
    },
    {
      "cell_type": "code",
      "execution_count": null,
      "metadata": {
        "id": "6xIaJ9ZiVsTC"
      },
      "outputs": [],
      "source": []
    },
    {
      "attachments": {},
      "cell_type": "markdown",
      "metadata": {
        "id": "GLEHEk-0VsvL"
      },
      "source": [
        "##Correlation_distance_bar"
      ]
    },
    {
      "cell_type": "code",
      "execution_count": null,
      "metadata": {
        "colab": {
          "base_uri": "https://localhost:8080/"
        },
        "id": "RhxR21sJVuYg",
        "outputId": "d97e0404-8351-4dd3-ed7b-6d8bbe7183f7"
      },
      "outputs": [
        {
          "data": {
            "text/plain": [
              "True"
            ]
          },
          "execution_count": 5,
          "metadata": {},
          "output_type": "execute_result"
        }
      ],
      "source": [
        "path = '/content/drive/MyDrive/correlation_distance'\n",
        "\n",
        "# size of canvas\n",
        "(HB, WB) = (800, 1280) #size of the canvas\n",
        "\n",
        "#size of the bar(s)\n",
        "W1 = 700\n",
        "H1 = 30\n",
        "thresh = 127\n",
        "\n",
        "R1_c = np.zeros((1, 2))\n",
        "\n",
        "# Initial cv2 poly matices\n",
        "R1 = np.zeros((4, 2))\n",
        "R2 = np.zeros((4, 2))\n",
        "\n",
        "n = 0\n",
        "R1_c = np.array([WB/2, HB/2])\n",
        "\n",
        "R1 = np.array([[R1_c[0] - W1 / 2, R1_c[1] + H1/2],\n",
        "               [R1_c[0] - W1 / 2, R1_c[1] - H1/2],\n",
        "               [R1_c[0] + W1 / 2, R1_c[1] - H1/2],\n",
        "               [R1_c[0] + W1 / 2, R1_c[1] + H1/2]])\n",
        "\n",
        "img = np.zeros( (HB, WB), dtype = np.uint8 )\n",
        "cv2.fillPoly(img, np.int32([R1]), color=(255,255,255))\n",
        "im_bw = cv2.threshold(img, thresh, 255, cv2.THRESH_BINARY)[1]\n",
        "filename = os.path.join(path , 'correlation_long_bar.tiff')\n",
        "cv2.imwrite(filename, im_bw)\n"
      ]
    },
    {
      "cell_type": "code",
      "execution_count": null,
      "metadata": {
        "colab": {
          "base_uri": "https://localhost:8080/"
        },
        "id": "-4An5E_V_3kB",
        "outputId": "14a37848-91d0-45a3-a32e-d75ff09a938b"
      },
      "outputs": [
        {
          "data": {
            "text/plain": [
              "array([[0, 0, 0, ..., 0, 0, 0],\n",
              "       [0, 0, 0, ..., 0, 0, 0],\n",
              "       [0, 0, 0, ..., 0, 0, 0],\n",
              "       ...,\n",
              "       [0, 0, 0, ..., 0, 0, 0],\n",
              "       [0, 0, 0, ..., 0, 0, 0],\n",
              "       [0, 0, 0, ..., 0, 0, 0]], dtype=uint8)"
            ]
          },
          "execution_count": 5,
          "metadata": {},
          "output_type": "execute_result"
        }
      ],
      "source": [
        "n = 0\n",
        "for i in range(len(distance)):\n",
        "\n",
        "  n += 1\n",
        "\n",
        "  R1_c = np.array([WB/2 - W1/2 - distance[i], 3 * HB/8]) #center of the bar\n",
        "  R2_c = np.array([WB/2 + distance[i] + W1/2, 3 * HB/8])\n",
        "  R3_c = np.array([WB/2 - W1/2 - distance[i], 5 * HB/8]) #center of the bar\n",
        "  R4_c = np.array([WB/2 + distance[i] + W1/2, 5 * HB/8])\n",
        "\n",
        "  R1 = np.array([[R1_c[0] - W1 / 2, R1_c[1] + H1/2],\n",
        "               [R1_c[0] - W1 / 2, R1_c[1] - H1/2],\n",
        "               [R1_c[0] + W1 / 2, R1_c[1] - H1/2],\n",
        "               [R1_c[0] + W1 / 2, R1_c[1] + H1/2]])\n",
        "  \n",
        "  R2 = np.array([[R2_c[0] - W1 / 2, R2_c[1] + H1/2],\n",
        "               [R2_c[0] - W1 / 2, R2_c[1] - H1/2],\n",
        "               [R2_c[0] + W1 / 2, R2_c[1] - H1/2],\n",
        "               [R2_c[0] + W1 / 2, R2_c[1] + H1/2]])\n",
        "  \n",
        "  R3 = np.array([[R3_c[0] - W1 / 2, R3_c[1] + H1/2],\n",
        "               [R3_c[0] - W1 / 2, R3_c[1] - H1/2],\n",
        "               [R3_c[0] + W1 / 2, R3_c[1] - H1/2],\n",
        "               [R3_c[0] + W1 / 2, R3_c[1] + H1/2]])\n",
        "  \n",
        "  R4 = np.array([[R4_c[0] - W1 / 2, R4_c[1] + H1/2],\n",
        "               [R4_c[0] - W1 / 2, R4_c[1] - H1/2],\n",
        "               [R4_c[0] + W1 / 2, R4_c[1] - H1/2],\n",
        "               [R4_c[0] + W1 / 2, R4_c[1] + H1/2]])\n",
        "  \n",
        "  img = np.zeros( (HB, WB), dtype = np.uint8 )\n",
        "  cv2.fillPoly(img, np.int32([R1]), color=(255,255,255))\n",
        "  cv2.fillPoly(img, np.int32([R2]), color=(255,255,255))\n",
        "  cv2.fillPoly(img, np.int32([R3]), color=(255,255,255))\n",
        "  cv2.fillPoly(img, np.int32([R4]), color=(255,255,255))\n",
        "  im_bw = cv2.threshold(img, thresh, 255, cv2.THRESH_BINARY)[1]\n",
        "  filename = os.path.join(path , 'dist_bar_2_%d.tiff' %n)\n",
        "  cv2.imwrite(filename, im_bw)\n",
        "\n",
        "\n",
        "im_bw"
      ]
    },
    {
      "cell_type": "code",
      "execution_count": null,
      "metadata": {
        "colab": {
          "base_uri": "https://localhost:8080/"
        },
        "id": "1y8MLb-FmFEN",
        "outputId": "43d7192f-07b9-4284-c3e3-bd29417cc1f8"
      },
      "outputs": [
        {
          "data": {
            "text/plain": [
              "array([[800, 720],\n",
              "       [800, 560],\n",
              "       [960, 560],\n",
              "       [960, 720]])"
            ]
          },
          "execution_count": 6,
          "metadata": {},
          "output_type": "execute_result"
        }
      ],
      "source": [
        "\n",
        "R1 = np.array([[800, 720],\n",
        "               [800, 560],\n",
        "               [960, 560],\n",
        "               [960, 720]])\n",
        "\n",
        "R2 = np.array([[800, 560],\n",
        "               [800, 400],\n",
        "               [960, 400],\n",
        "               [960, 560]])\n",
        "\n",
        "R3 = np.array([[640, 560],\n",
        "               [640, 400],\n",
        "               [800, 400],\n",
        "               [800, 560]])\n",
        "\n",
        "R4 = np.array([[800, 400],\n",
        "               [800, 240],\n",
        "               [960, 240],\n",
        "               [960, 400]])\n",
        "\n",
        "R5 = np.array([[480, 400],\n",
        "               [480, 240],\n",
        "               [640, 240],\n",
        "               [640, 400]])\n",
        "\n",
        "R6 = np.array([[320, 240],\n",
        "               [320, 80],\n",
        "               [960, 80],\n",
        "               [960, 240]])\n",
        "\n",
        "img = np.zeros( (HB, WB), dtype = np.uint8 )\n",
        "cv2.fillPoly(img, np.int32([R1]), color=(255,255,255))\n",
        "cv2.fillPoly(img, np.int32([R2]), color=(255,255,255))\n",
        "cv2.fillPoly(img, np.int32([R3]), color=(255,255,255))\n",
        "cv2.fillPoly(img, np.int32([R4]), color=(255,255,255))\n",
        "cv2.fillPoly(img, np.int32([R5]), color=(255,255,255))\n",
        "cv2.fillPoly(img, np.int32([R6]), color=(255,255,255))\n",
        "im_bw = cv2.threshold(img, thresh, 255, cv2.THRESH_BINARY)[1]\n",
        "cv2.imwrite('image.tiff', im_bw)\n",
        "\n",
        "R1"
      ]
    },
    {
      "cell_type": "code",
      "execution_count": null,
      "metadata": {
        "id": "44JWNPuUQtWJ"
      },
      "outputs": [],
      "source": [
        "z = cv2.fillPoly(img, np.int32([R6]), color=(255,255,255))"
      ]
    },
    {
      "cell_type": "code",
      "execution_count": null,
      "metadata": {
        "colab": {
          "base_uri": "https://localhost:8080/"
        },
        "id": "vRqLSQUKQuPl",
        "outputId": "d4bdadcb-5e7a-4aec-9a40-3168e818028c"
      },
      "outputs": [
        {
          "data": {
            "text/plain": [
              "array([[0, 0, 0, ..., 0, 0, 0],\n",
              "       [0, 0, 0, ..., 0, 0, 0],\n",
              "       [0, 0, 0, ..., 0, 0, 0],\n",
              "       ...,\n",
              "       [0, 0, 0, ..., 0, 0, 0],\n",
              "       [0, 0, 0, ..., 0, 0, 0],\n",
              "       [0, 0, 0, ..., 0, 0, 0]], dtype=uint8)"
            ]
          },
          "execution_count": 8,
          "metadata": {},
          "output_type": "execute_result"
        }
      ],
      "source": [
        "z"
      ]
    },
    {
      "cell_type": "code",
      "execution_count": null,
      "metadata": {
        "colab": {
          "base_uri": "https://localhost:8080/"
        },
        "id": "yPaz5ytTQu0c",
        "outputId": "96cd8946-949c-420e-97c5-298e6fb96982"
      },
      "outputs": [
        {
          "data": {
            "text/plain": [
              "array([[0, 0, 0, ..., 0, 0, 0],\n",
              "       [0, 0, 0, ..., 0, 0, 0],\n",
              "       [0, 0, 0, ..., 0, 0, 0],\n",
              "       ...,\n",
              "       [0, 0, 0, ..., 0, 0, 0],\n",
              "       [0, 0, 0, ..., 0, 0, 0],\n",
              "       [0, 0, 0, ..., 0, 0, 0]], dtype=uint8)"
            ]
          },
          "execution_count": 9,
          "metadata": {},
          "output_type": "execute_result"
        }
      ],
      "source": [
        "img"
      ]
    },
    {
      "cell_type": "code",
      "execution_count": null,
      "metadata": {
        "id": "yn2xTeqMQ6qp"
      },
      "outputs": [],
      "source": []
    },
    {
      "cell_type": "code",
      "execution_count": null,
      "metadata": {
        "id": "F07_SbehQ1ZE"
      },
      "outputs": [],
      "source": []
    },
    {
      "cell_type": "code",
      "execution_count": null,
      "metadata": {
        "id": "ojZmq0ayQzKB"
      },
      "outputs": [],
      "source": []
    },
    {
      "cell_type": "code",
      "execution_count": null,
      "metadata": {
        "id": "ESqrRZeZpyyD"
      },
      "outputs": [],
      "source": [
        "#size of the bar(s)\n",
        "W2 = 150\n",
        "H2 = 25\n",
        "thresh = 127\n",
        "\n",
        "distance_1 = [12.5, 40]"
      ]
    },
    {
      "cell_type": "code",
      "execution_count": null,
      "metadata": {
        "colab": {
          "base_uri": "https://localhost:8080/"
        },
        "id": "BjYNlHDFysxT",
        "outputId": "9c89d4e8-c186-422e-abc0-3ccd5b6ceb2f"
      },
      "outputs": [
        {
          "data": {
            "text/plain": [
              "array([[0, 0, 0, ..., 0, 0, 0],\n",
              "       [0, 0, 0, ..., 0, 0, 0],\n",
              "       [0, 0, 0, ..., 0, 0, 0],\n",
              "       ...,\n",
              "       [0, 0, 0, ..., 0, 0, 0],\n",
              "       [0, 0, 0, ..., 0, 0, 0],\n",
              "       [0, 0, 0, ..., 0, 0, 0]], dtype=uint8)"
            ]
          },
          "execution_count": 11,
          "metadata": {},
          "output_type": "execute_result"
        }
      ],
      "source": [
        "n = 0\n",
        "for i in range(len(distance_1)):\n",
        "\n",
        "  n += 1\n",
        "\n",
        "  R1_c = np.array([410 - distance_1[i] - H2/2, 140 + H2/2]) #center of the bar\n",
        "  R2_c = np.array([WB/2 - 20 - W2/2, 140 + H2/2])\n",
        "  R3_c = np.array([WB/2 + 20 + W2/2, 140 + H2/2]) #center of the bar\n",
        "  R4_c = np.array([WB/2 + 20 + W2 + distance_1[i] + W2/2, 140 + H2/2])\n",
        "  R5_c = np.array([410 - distance_1[i] - H2/2, 140 + H2/2 + 140 + H2/2]) #center of the bar\n",
        "  R6_c = np.array([WB/2 - 20 - W2/2, 140 + H2/2 + 140 + H2/2])\n",
        "  R7_c = np.array([WB/2 + 20 + W2/2, 140 + H2/2 + 140 + H2/2]) #center of the bar\n",
        "  R8_c = np.array([WB/2 + 20 + W2 + distance_1[i] + W2/2, 140 + H2/2 + 140 + H2/2])\n",
        "  R9_c = np.array([410 - distance_1[i] - H2/2, 140 + H2/2 + 280 + H2]) #center of the bar\n",
        "  R10_c = np.array([WB/2 - 20 - W2/2, 140 + H2/2 + 280 + H2])\n",
        "  R11_c = np.array([WB/2 + 20 + W2/2, 140 + H2/2 + 280 + H2]) #center of the bar\n",
        "  R12_c = np.array([WB/2 + 20 + W2 + distance_1[i] + W2/2, 140 + H2/2 + 280 + H2])\n",
        "  R13_c = np.array([410 - distance_1[i] - H2/2, 140 + H2/2 + 420 + 3 * H2 / 2]) #center of the bar\n",
        "  R14_c = np.array([WB/2 - 20 - W2/2, 140 + H2/2 + 420 + 3 * H2 / 2])\n",
        "  R15_c = np.array([WB/2 + 20 + W2/2, 140 + H2/2 + 420 + 3 * H2 / 2]) #center of the bar\n",
        "  R16_c = np.array([WB/2 + 20 + W2 + distance_1[i] + W2/2, 140 + H2/2 + 420 + 3 * H2 / 2])\n",
        "\n",
        "  R1 = np.array([[R1_c[0] - W2 / 2, R1_c[1] + H2/2],\n",
        "               [R1_c[0] - W2 / 2, R1_c[1] - H2/2],\n",
        "               [R1_c[0] + W2 / 2, R1_c[1] - H2/2],\n",
        "               [R1_c[0] + W2 / 2, R1_c[1] + H2/2]])\n",
        "  \n",
        "  R2 = np.array([[R2_c[0] - W2 / 2, R2_c[1] + H2/2],\n",
        "               [R2_c[0] - W2 / 2, R2_c[1] - H2/2],\n",
        "               [R2_c[0] + W2 / 2, R2_c[1] - H2/2],\n",
        "               [R2_c[0] + W2 / 2, R2_c[1] + H2/2]])\n",
        "  \n",
        "  R3 = np.array([[R3_c[0] - W2 / 2, R3_c[1] + H2/2],\n",
        "               [R3_c[0] - W2 / 2, R3_c[1] - H2/2],\n",
        "               [R3_c[0] + W2 / 2, R3_c[1] - H2/2],\n",
        "               [R3_c[0] + W2 / 2, R3_c[1] + H2/2]])\n",
        "  \n",
        "  R4 = np.array([[R4_c[0] - W2 / 2, R4_c[1] + H2/2],\n",
        "               [R4_c[0] - W2 / 2, R4_c[1] - H2/2],\n",
        "               [R4_c[0] + W2 / 2, R4_c[1] - H2/2],\n",
        "               [R4_c[0] + W2 / 2, R4_c[1] + H2/2]])\n",
        "  \n",
        "  R5 = np.array([[R5_c[0] - W2 / 2, R5_c[1] + H2/2],\n",
        "               [R5_c[0] - W2 / 2, R5_c[1] - H2/2],\n",
        "               [R5_c[0] + W2 / 2, R5_c[1] - H2/2],\n",
        "               [R5_c[0] + W2 / 2, R5_c[1] + H2/2]])\n",
        "  \n",
        "  R6 = np.array([[R6_c[0] - W2 / 2, R6_c[1] + H2/2],\n",
        "               [R6_c[0] - W2 / 2, R6_c[1] - H2/2],\n",
        "               [R6_c[0] + W2 / 2, R6_c[1] - H2/2],\n",
        "               [R6_c[0] + W2 / 2, R6_c[1] + H2/2]])\n",
        "  \n",
        "  R7 = np.array([[R7_c[0] - W2 / 2, R7_c[1] + H2/2],\n",
        "               [R7_c[0] - W2 / 2, R7_c[1] - H2/2],\n",
        "               [R7_c[0] + W2 / 2, R7_c[1] - H2/2],\n",
        "               [R7_c[0] + W2 / 2, R7_c[1] + H2/2]])\n",
        "  \n",
        "  R8 = np.array([[R8_c[0] - W2 / 2, R8_c[1] + H2/2],\n",
        "               [R8_c[0] - W2 / 2, R8_c[1] - H2/2],\n",
        "               [R8_c[0] + W2 / 2, R8_c[1] - H2/2],\n",
        "               [R8_c[0] + W2 / 2, R8_c[1] + H2/2]])\n",
        "\n",
        "  R9 = np.array([[R9_c[0] - W2 / 2, R9_c[1] + H2/2],\n",
        "               [R9_c[0] - W2 / 2, R9_c[1] - H2/2],\n",
        "               [R9_c[0] + W2 / 2, R9_c[1] - H2/2],\n",
        "               [R9_c[0] + W2 / 2, R9_c[1] + H2/2]])\n",
        "  \n",
        "  R10 = np.array([[R10_c[0] - W2 / 2, R10_c[1] + H2/2],\n",
        "               [R10_c[0] - W2 / 2, R10_c[1] - H2/2],\n",
        "               [R10_c[0] + W2 / 2, R10_c[1] - H2/2],\n",
        "               [R10_c[0] + W2 / 2, R10_c[1] + H2/2]])\n",
        "  \n",
        "  R11 = np.array([[R11_c[0] - W2 / 2, R11_c[1] + H2/2],\n",
        "               [R11_c[0] - W2 / 2, R11_c[1] - H2/2],\n",
        "               [R11_c[0] + W2 / 2, R11_c[1] - H2/2],\n",
        "               [R11_c[0] + W2 / 2, R11_c[1] + H2/2]])\n",
        "  \n",
        "  R12 = np.array([[R12_c[0] - W2 / 2, R12_c[1] + H2/2],\n",
        "               [R12_c[0] - W2 / 2, R12_c[1] - H2/2],\n",
        "               [R12_c[0] + W2 / 2, R12_c[1] - H2/2],\n",
        "               [R12_c[0] + W2 / 2, R12_c[1] + H2/2]])\n",
        "  \n",
        "  R13 = np.array([[R13_c[0] - W2 / 2, R13_c[1] + H2/2],\n",
        "               [R13_c[0] - W2 / 2, R13_c[1] - H2/2],\n",
        "               [R13_c[0] + W2 / 2, R13_c[1] - H2/2],\n",
        "               [R13_c[0] + W2 / 2, R13_c[1] + H2/2]])\n",
        "  \n",
        "  R14 = np.array([[R14_c[0] - W2 / 2, R14_c[1] + H2/2],\n",
        "               [R14_c[0] - W2 / 2, R14_c[1] - H2/2],\n",
        "               [R14_c[0] + W2 / 2, R14_c[1] - H2/2],\n",
        "               [R14_c[0] + W2 / 2, R14_c[1] + H2/2]])\n",
        "  \n",
        "  R15 = np.array([[R15_c[0] - W2 / 2, R15_c[1] + H2/2],\n",
        "               [R15_c[0] - W2 / 2, R15_c[1] - H2/2],\n",
        "               [R15_c[0] + W2 / 2, R15_c[1] - H2/2],\n",
        "               [R15_c[0] + W2 / 2, R15_c[1] + H2/2]])\n",
        "  \n",
        "  R16 = np.array([[R16_c[0] - W2 / 2, R16_c[1] + H2/2],\n",
        "               [R16_c[0] - W2 / 2, R16_c[1] - H2/2],\n",
        "               [R16_c[0] + W2 / 2, R16_c[1] - H2/2],\n",
        "               [R16_c[0] + W2 / 2, R16_c[1] + H2/2]])\n",
        "  \n",
        "  img = np.zeros( (HB, WB), dtype = np.uint8 )\n",
        "  cv2.fillPoly(img, np.int32([R1]), color=(255,255,255))\n",
        "  cv2.fillPoly(img, np.int32([R2]), color=(255,255,255))\n",
        "  cv2.fillPoly(img, np.int32([R3]), color=(255,255,255))\n",
        "  cv2.fillPoly(img, np.int32([R4]), color=(255,255,255))\n",
        "  cv2.fillPoly(img, np.int32([R5]), color=(255,255,255))\n",
        "  cv2.fillPoly(img, np.int32([R6]), color=(255,255,255))\n",
        "  cv2.fillPoly(img, np.int32([R7]), color=(255,255,255))\n",
        "  cv2.fillPoly(img, np.int32([R8]), color=(255,255,255))\n",
        "  cv2.fillPoly(img, np.int32([R9]), color=(255,255,255))\n",
        "  cv2.fillPoly(img, np.int32([R10]), color=(255,255,255))\n",
        "  cv2.fillPoly(img, np.int32([R11]), color=(255,255,255))\n",
        "  cv2.fillPoly(img, np.int32([R12]), color=(255,255,255))\n",
        "  cv2.fillPoly(img, np.int32([R13]), color=(255,255,255))\n",
        "  cv2.fillPoly(img, np.int32([R14]), color=(255,255,255))\n",
        "  cv2.fillPoly(img, np.int32([R15]), color=(255,255,255))\n",
        "  cv2.fillPoly(img, np.int32([R16]), color=(255,255,255))\n",
        "  im_bw = cv2.threshold(img, thresh, 255, cv2.THRESH_BINARY)[1]\n",
        "  filename = os.path.join(path , 'lattice_bar_2_%d.tiff' %n)\n",
        "  cv2.imwrite(filename, im_bw)\n",
        "\n",
        "\n",
        "im_bw"
      ]
    },
    {
      "cell_type": "code",
      "execution_count": null,
      "metadata": {
        "id": "9BayJchvzZRu"
      },
      "outputs": [],
      "source": []
    },
    {
      "cell_type": "code",
      "execution_count": null,
      "metadata": {
        "id": "i0TUIWQ3Sz0c"
      },
      "outputs": [],
      "source": []
    },
    {
      "cell_type": "code",
      "execution_count": null,
      "metadata": {
        "id": "dQz-SEqmSz28"
      },
      "outputs": [],
      "source": []
    },
    {
      "cell_type": "code",
      "execution_count": null,
      "metadata": {
        "id": "JBfFSjMdSz5r"
      },
      "outputs": [],
      "source": [
        "import numpy as np\n",
        "import cv2\n",
        "import math\n",
        "\n",
        "path = '/content/drive/MyDrive/connection_of_bars_masks/fig_4/static_rotation/1'\n",
        "\n",
        "\n",
        "##one rotating bar\n",
        "(HB, WB) = (800, 1280) #size of the canvas\n",
        "\n",
        "\n",
        "thresh = 127\n",
        "num_pix = 360\n",
        "num_bar = 4\n",
        "W1 = 225\n",
        "H1 = 36\n",
        "\n",
        "W2 = 135\n",
        "H2 = 27\n",
        "\n",
        "#Rectangle\n",
        "P0 = np.array([1.3*WB/4, HB/4]) #center of the bar\n",
        "\n",
        "P1 = np.array([1.3*WB/4, 3 * HB/4]) #center of the bar\n",
        "\n",
        "C = np.array([W1,H1]) #width, height of the bar\n",
        "ang_rot = 2 #degrees of rotation in each frame\n",
        "ang = 0 #initial angle\n",
        "\n",
        "\n",
        "\n",
        "class RRect_center:\n",
        "  def __init__(self, p0, s, ang):\n",
        "    (self.W, self.H) = s # rectangle width and height\n",
        "    self.d = math.sqrt(self.W**2 + self.H**2)/2.0 # distance from center to vertices\n",
        "    #self.c = (int(p0[0]+self.W/2.0),int(p0[1]+self.H/2.0)) # center point coordinates\n",
        "    self.c = p0.astype(int) # center point coordinates\n",
        "    self.ang = ang # rotation angle\n",
        "    self.alpha = math.radians(self.ang) # rotation angle in radians\n",
        "    self.beta = math.atan2(self.H, self.W) # angle between d and horizontal axis\n",
        "    # Center Rotated vertices in image frame\n",
        "    self.P0 = (int(self.c[0] - self.d * math.cos(self.beta - self.alpha)), int(self.c[1] - self.d * math.sin(self.beta-self.alpha)))\n",
        "    self.P1 = (int(self.c[0] - self.d * math.cos(self.beta + self.alpha)), int(self.c[1] + self.d * math.sin(self.beta+self.alpha)))\n",
        "    self.P2 = (int(self.c[0] + self.d * math.cos(self.beta - self.alpha)), int(self.c[1] + self.d * math.sin(self.beta-self.alpha)))\n",
        "    self.P3 = (int(self.c[0] + self.d * math.cos(self.beta + self.alpha)), int(self.c[1] - self.d * math.sin(self.beta+self.alpha)))\n",
        "\n",
        "    self.verts = np.array([[self.P0,self.P1,self.P2,self.P3]], dtype=np.int32)\n",
        "    \n",
        "for nn in range(num_pix):\n",
        "    nn += 1\n",
        "    img = np.zeros( (HB, WB) ) # create a single channel 1280x800 pixel black image\n",
        "   \n",
        "    rr0 = RRect_center(P0,C,ang)\n",
        "    rr1 = RRect_center(P1,C,ang)\n",
        "\n",
        "    cv2.fillPoly(img, rr0.verts, color=(255,255,255))\n",
        "    cv2.fillPoly(img, rr1.verts, color=(255,255,255))\n",
        "\n",
        "    R1_c = np.array([700, HB/4]) #center of the bar\n",
        "    R2_c = np.array([700, HB/2])\n",
        "    R3_c = np.array([700, 3 * HB / 4]) #center of the bar\n",
        "    R4_c = np.array([920, HB/4]) #center of the bar\n",
        "    R5_c = np.array([920, HB/2])\n",
        "    R6_c = np.array([920, 3 * HB / 4]) #center of the bar\n",
        "    \n",
        "    R1 = np.array([[R1_c[0] - W2 / 2, R1_c[1] + H2/2],\n",
        "               [R1_c[0] - W2 / 2, R1_c[1] - H2/2],\n",
        "               [R1_c[0] + W2 / 2, R1_c[1] - H2/2],\n",
        "               [R1_c[0] + W2 / 2, R1_c[1] + H2/2]])\n",
        "  \n",
        "    R2 = np.array([[R2_c[0] - W2 / 2, R2_c[1] + H2/2],\n",
        "               [R2_c[0] - W2 / 2, R2_c[1] - H2/2],\n",
        "               [R2_c[0] + W2 / 2, R2_c[1] - H2/2],\n",
        "               [R2_c[0] + W2 / 2, R2_c[1] + H2/2]])\n",
        "  \n",
        "    R3 = np.array([[R3_c[0] - W2 / 2, R3_c[1] + H2/2],\n",
        "               [R3_c[0] - W2 / 2, R3_c[1] - H2/2],\n",
        "               [R3_c[0] + W2 / 2, R3_c[1] - H2/2],\n",
        "               [R3_c[0] + W2 / 2, R3_c[1] + H2/2]])\n",
        "  \n",
        "    R4 = np.array([[R4_c[0] - W2 / 2, R4_c[1] + H2/2],\n",
        "               [R4_c[0] - W2 / 2, R4_c[1] - H2/2],\n",
        "               [R4_c[0] + W2 / 2, R4_c[1] - H2/2],\n",
        "               [R4_c[0] + W2 / 2, R4_c[1] + H2/2]])\n",
        "  \n",
        "    R5 = np.array([[R5_c[0] - W2 / 2, R5_c[1] + H2/2],\n",
        "               [R5_c[0] - W2 / 2, R5_c[1] - H2/2],\n",
        "               [R5_c[0] + W2 / 2, R5_c[1] - H2/2],\n",
        "               [R5_c[0] + W2 / 2, R5_c[1] + H2/2]])\n",
        "  \n",
        "    R6 = np.array([[R6_c[0] - W2 / 2, R6_c[1] + H2/2],\n",
        "               [R6_c[0] - W2 / 2, R6_c[1] - H2/2],\n",
        "               [R6_c[0] + W2 / 2, R6_c[1] - H2/2],\n",
        "               [R6_c[0] + W2 / 2, R6_c[1] + H2/2]])\n",
        "    \n",
        "    ang += ang_rot\n",
        "\n",
        "    cv2.fillPoly(img, np.int32([R1]), color=(255,255,255))\n",
        "    cv2.fillPoly(img, np.int32([R2]), color=(255,255,255))\n",
        "    cv2.fillPoly(img, np.int32([R3]), color=(255,255,255))\n",
        "    cv2.fillPoly(img, np.int32([R4]), color=(255,255,255))\n",
        "    cv2.fillPoly(img, np.int32([R5]), color=(255,255,255))\n",
        "    cv2.fillPoly(img, np.int32([R6]), color=(255,255,255))\n",
        "    im_bw = cv2.threshold(img, thresh, 255, cv2.THRESH_BINARY)[1]\n",
        "    filename = os.path.join(path , 'rotbar%d.png' %nn)\n",
        "\n",
        "    \n",
        "    cv2.imwrite(filename, im_bw)"
      ]
    },
    {
      "cell_type": "code",
      "execution_count": null,
      "metadata": {
        "id": "3BGS-5TqsxMJ"
      },
      "outputs": [],
      "source": []
    }
  ],
  "metadata": {
    "colab": {
      "include_colab_link": true,
      "provenance": []
    },
    "kernelspec": {
      "display_name": "Python 3",
      "name": "python3"
    },
    "language_info": {
      "name": "python"
    }
  },
  "nbformat": 4,
  "nbformat_minor": 0
}
