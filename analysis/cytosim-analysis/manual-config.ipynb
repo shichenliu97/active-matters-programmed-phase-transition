{
 "cells": [
  {
   "cell_type": "code",
   "execution_count": 1,
   "metadata": {},
   "outputs": [],
   "source": [
    "## processing\n",
    "import numpy as np\n",
    "\n",
    "## visualization\n",
    "import matplotlib.pyplot as plt"
   ]
  },
  {
   "cell_type": "code",
   "execution_count": 2,
   "metadata": {},
   "outputs": [],
   "source": [
    "def generate_microtubule_lengths(shape, scale, total_length):\n",
    "    # Initialize the lengths list and the current total length\n",
    "    lengths = []\n",
    "    current_total_length = 0\n",
    "    # Keep generating lengths until the current total length is less than the desired total length\n",
    "    while current_total_length < total_length:\n",
    "        # Generate a new length\n",
    "        new_length = round(np.random.gamma(shape, scale), 1)\n",
    "        # If adding the new length doesn’t exceed the total length, add it to the lengths\n",
    "        if new_length >= 1 and new_length <= 25:\n",
    "            if current_total_length + new_length <= total_length:\n",
    "                lengths.append(new_length)\n",
    "                current_total_length += new_length\n",
    "            else:\n",
    "                # If adding the new length would exceed the total length, add a length that will make the current total length equal to the total length\n",
    "                new_length = total_length - current_total_length\n",
    "                if new_length >= 1:\n",
    "                    lengths.append(new_length)\n",
    "                    break\n",
    "                else:\n",
    "                    break\n",
    "    return np.array(lengths)"
   ]
  },
  {
   "cell_type": "code",
   "execution_count": 3,
   "metadata": {},
   "outputs": [
    {
     "data": {
      "image/png": "[encoded data removed]",
      "text/plain": [
       "<Figure size 360x216 with 1 Axes>"
      ]
     },
     "metadata": {
      "needs_background": "light"
     },
     "output_type": "display_data"
    }
   ],
   "source": [
    "lMT = generate_microtubule_lengths(1, 0.5, 1000)\n",
    "\n",
    "fig, ax = plt.subplots(figsize=(5,3))\n",
    "ax.hist(lMT, bins=30)\n",
    "plt.show()"
   ]
  },
  {
   "cell_type": "code",
   "execution_count": 4,
   "metadata": {},
   "outputs": [
    {
     "data": {
      "image/png": "[encoded data removed]",
      "text/plain": [
       "<Figure size 360x216 with 1 Axes>"
      ]
     },
     "metadata": {
      "needs_background": "light"
     },
     "output_type": "display_data"
    }
   ],
   "source": [
    "lMT = generate_microtubule_lengths(1, 5, 1000)\n",
    "\n",
    "fig, ax = plt.subplots(figsize=(5,3))\n",
    "ax.hist(lMT, bins=30)\n",
    "plt.show()"
   ]
  },
  {
   "cell_type": "code",
   "execution_count": 5,
   "metadata": {},
   "outputs": [],
   "source": [
    "d_lMT = {}\n",
    "for i in np.arange(1, max(lMT)+0.1, 0.1):\n",
    "    d_lMT[round(i,1)] = np.count_nonzero((lMT > i-1e-6) & (lMT < i+1e-6))"
   ]
  },
  {
   "cell_type": "code",
   "execution_count": 6,
   "metadata": {},
   "outputs": [],
   "source": [
    "file = open('template.cym', 'r')\n",
    "lines = file.readlines()"
   ]
  },
  {
   "cell_type": "code",
   "execution_count": 7,
   "metadata": {},
   "outputs": [],
   "source": [
    "scale_list = np.arange(0.25, 5.1, 0.25)\n",
    "\n",
    "for ii in range(10):\n",
    "    i = 0\n",
    "    for scale in scale_list:\n",
    "        num_zeros = 4 - len(str(i))\n",
    "        filename = 'config{}.cym'.format(num_zeros * '0' + str(i))\n",
    "        with open('./gamma-1d/series{}/'.format(ii) + filename, 'w') as f:\n",
    "            f.write('%shape = 1, scale = {}\\n'.format(round(scale, 2)))\n",
    "            for line in lines[:28]:\n",
    "                f.write(line)\n",
    "            \n",
    "            lMT = generate_microtubule_lengths(1, scale, 1000)\n",
    "            d_lMT = {}\n",
    "            for l in np.arange(1, max(lMT)+0.1, 0.1):\n",
    "                d_lMT[round(l,1)] = np.count_nonzero((lMT > l-1e-6) & (lMT < l+1e-6))\n",
    "                \n",
    "            for length,count in d_lMT.items():\n",
    "                    f.write('new {} microtubule'.format(count))\n",
    "                    f.write(\"\\n{\\n\")\n",
    "                    f.write(\"\\tlength = {}\".format(length))\n",
    "                    f.write(\"\\n}\\n\\n\")\n",
    "\n",
    "            for line in lines[28:]:\n",
    "                f.write(line)\n",
    "        i += 1"
   ]
  },
  {
   "attachments": {},
   "cell_type": "markdown",
   "metadata": {},
   "source": [
    "## 2d phase diagram"
   ]
  },
  {
   "cell_type": "code",
   "execution_count": 3,
   "metadata": {},
   "outputs": [],
   "source": [
    "file = open('template.cym', 'r')\n",
    "lines = file.readlines()"
   ]
  },
  {
   "cell_type": "code",
   "execution_count": 4,
   "metadata": {},
   "outputs": [],
   "source": [
    "shape_list = np.arange(0.5, 7.1, 0.5)\n",
    "scale_list = np.arange(0.5, 7.1, 0.5)"
   ]
  },
  {
   "cell_type": "code",
   "execution_count": 6,
   "metadata": {},
   "outputs": [],
   "source": [
    "i = 0\n",
    "for shape in shape_list:\n",
    "    for scale in scale_list:\n",
    "        num_zeros = 4 - len(str(i))\n",
    "        filename = 'config{}.cym'.format(num_zeros * '0' + str(i))\n",
    "        \n",
    "        with open('./2d-phase/' + filename, 'w') as f:\n",
    "            f.write('%shape = {}, scale = {}\\n'.format(round(shape, 1), round(scale, 1)))\n",
    "            for line in lines[:28]:\n",
    "                f.write(line)\n",
    "            \n",
    "            lMT = generate_microtubule_lengths(shape, scale, 1000)\n",
    "            d_lMT = {}\n",
    "            for l in np.arange(1, max(lMT)+0.1, 0.1):\n",
    "                d_lMT[round(l,1)] = np.count_nonzero((lMT > l-1e-6) & (lMT < l+1e-6))\n",
    "                \n",
    "            for length,count in d_lMT.items():\n",
    "                    f.write('new {} microtubule'.format(count))\n",
    "                    f.write(\"\\n{\\n\")\n",
    "                    f.write(\"\\tlength = {}\".format(length))\n",
    "                    f.write(\"\\n}\\n\\n\")\n",
    "\n",
    "            for line in lines[28:]:\n",
    "                f.write(line)\n",
    "        i += 1"
   ]
  },
  {
   "cell_type": "code",
   "execution_count": null,
   "metadata": {},
   "outputs": [],
   "source": []
  }
 ],
 "metadata": {
  "kernelspec": {
   "display_name": "base",
   "language": "python",
   "name": "python3"
  },
  "language_info": {
   "codemirror_mode": {
    "name": "ipython",
    "version": 3
   },
   "file_extension": ".py",
   "mimetype": "text/x-python",
   "name": "python",
   "nbconvert_exporter": "python",
   "pygments_lexer": "ipython3",
   "version": "3.9.12"
  },
  "orig_nbformat": 4,
  "vscode": {
   "interpreter": {
    "hash": "015b106b9e7b11c74dcc40152a35c73b3abfee4457c770490c39a2b8b9503267"
   }
  }
 },
 "nbformat": 4,
 "nbformat_minor": 2
}
