{
 "cells": [
  {
   "cell_type": "code",
   "execution_count": 1,
   "metadata": {},
   "outputs": [],
   "source": [
    "## processing\n",
    "import random\n",
    "import numpy as np\n",
    "\n",
    "## visualization\n",
    "import matplotlib.pyplot as plt"
   ]
  },
  {
   "attachments": {},
   "cell_type": "markdown",
   "metadata": {},
   "source": [
    "## Defining microtubule length using negative binomial distribution"
   ]
  },
  {
   "cell_type": "code",
   "execution_count": 9,
   "metadata": {},
   "outputs": [],
   "source": [
    "lMT = np.random.negative_binomial(1, 0.9, size=100) + 1"
   ]
  },
  {
   "cell_type": "code",
   "execution_count": 10,
   "metadata": {},
   "outputs": [],
   "source": [
    "d_lMT = {}\n",
    "for i in range(1, max(lMT)+1):\n",
    "    d_lMT[i] = np.count_nonzero(lMT == i)"
   ]
  },
  {
   "cell_type": "code",
   "execution_count": 11,
   "metadata": {},
   "outputs": [
    {
     "data": {
      "image/png": "[encoded data removed]",
      "text/plain": [
       "<Figure size 432x288 with 1 Axes>"
      ]
     },
     "metadata": {
      "needs_background": "light"
     },
     "output_type": "display_data"
    }
   ],
   "source": [
    "fig, ax = plt.subplots()\n",
    "ax.bar(d_lMT.keys(), d_lMT.values(), align='center', alpha=0.5)\n",
    "ax.set_xlabel('Length', fontsize=12)\n",
    "ax.set_ylabel('Count', fontsize=12)\n",
    "plt.show()"
   ]
  },
  {
   "cell_type": "code",
   "execution_count": 2,
   "metadata": {},
   "outputs": [],
   "source": [
    "file = open('template.cym', 'r')\n",
    "lines = file.readlines()"
   ]
  },
  {
   "cell_type": "code",
   "execution_count": null,
   "metadata": {},
   "outputs": [],
   "source": [
    "with open('config.cym', 'w') as f:\n",
    "    for line in lines[:28]:\n",
    "        f.write(line)\n",
    "    for length,count in d_lMT.items():\n",
    "        f.write('new {} microtubule'.format(count))\n",
    "        f.write(\"\\n{\\n\")\n",
    "        f.write(\"\\tlength = {}\".format(length))\n",
    "        f.write(\"\\n}\\n\\n\")\n",
    "    for line in lines[33:]:\n",
    "        f.write(line)"
   ]
  },
  {
   "cell_type": "code",
   "execution_count": 19,
   "metadata": {},
   "outputs": [
    {
     "name": "stdout",
     "output_type": "stream",
     "text": [
      "0.4\n",
      "0.5\n",
      "0.6\n",
      "0.7\n",
      "0.7999999999999999\n",
      "0.8999999999999999\n"
     ]
    }
   ],
   "source": [
    "file = open('template.cym', 'r')\n",
    "lines = file.readlines()\n",
    "\n",
    "fdir = '../simulation/percolation/run-series10/'\n",
    "file_number = 0\n",
    "\n",
    "for p in np.arange(0.4, 0.91, 0.1):\n",
    "    print(p)\n",
    "    for n in range(3):\n",
    "        lMT = np.random.negative_binomial(1, p, size=1000) + 1\n",
    "\n",
    "        d_lMT = {}\n",
    "        for i in range(1, max(lMT)+1):\n",
    "            d_lMT[i] = np.count_nonzero(lMT == i)\n",
    "\n",
    "        fname = 'config{}.cym'.format((4-len(str(file_number)))*'0'+str(file_number))\n",
    "        with open(fdir+fname, 'w') as f:\n",
    "            for line in lines[:28]:\n",
    "                f.write(line)\n",
    "            for length,count in d_lMT.items():\n",
    "                f.write('new {} microtubule'.format(count))\n",
    "                f.write(\"\\n{\\n\")\n",
    "                f.write(\"\\tlength = {}\".format(length))\n",
    "                f.write(\"\\n}\\n\\n\")\n",
    "            for line in lines[33:]:\n",
    "                f.write(line)\n",
    "    \n",
    "        file_number += 1"
   ]
  },
  {
   "attachments": {},
   "cell_type": "markdown",
   "metadata": {},
   "source": [
    "## Orientation sorting"
   ]
  },
  {
   "cell_type": "code",
   "execution_count": 3,
   "metadata": {},
   "outputs": [],
   "source": [
    "orientations = []\n",
    "for i in range(1, 11):\n",
    "    for j in range(1, 11):\n",
    "        orientations.append('{} {} 0'.format(i, j))"
   ]
  },
  {
   "cell_type": "code",
   "execution_count": 29,
   "metadata": {},
   "outputs": [],
   "source": [
    "positions = []\n",
    "gap = 3\n",
    "for i in range(-12, 13, gap):\n",
    "    for j in range(-12, 13, gap):\n",
    "        positions.append('{} {} 0'.format(i, j))"
   ]
  },
  {
   "cell_type": "code",
   "execution_count": 30,
   "metadata": {},
   "outputs": [
    {
     "data": {
      "text/plain": [
       "12"
      ]
     },
     "execution_count": 30,
     "metadata": {},
     "output_type": "execute_result"
    }
   ],
   "source": [
    "num_MT = int(1000 / len(positions))\n",
    "num_MT"
   ]
  },
  {
   "cell_type": "code",
   "execution_count": 32,
   "metadata": {},
   "outputs": [],
   "source": [
    "file = open('template.cym', 'r')\n",
    "lines = file.readlines()"
   ]
  },
  {
   "cell_type": "code",
   "execution_count": 33,
   "metadata": {},
   "outputs": [],
   "source": [
    "with open('../simulation/orientation/config0002.cym', 'w') as f:\n",
    "    for line in lines[:28]:\n",
    "        f.write(line)\n",
    "    for i in range(3):\n",
    "        for position in positions:\n",
    "            orientation = random.choice(orientations)\n",
    "            f.write('new {} microtubule\\n'.format(num_MT))\n",
    "            f.write(\"{\\n\")\n",
    "            f.write(\"\\tlength = 1\\n\")\n",
    "            f.write(\"\\tposition = {}\\n\".format(position))\n",
    "            f.write(\"\\torientation = {}\\n\".format(orientation))\n",
    "            f.write(\"\\n}\\n\\n\")\n",
    "    for line in lines[33:]:\n",
    "        f.write(line)"
   ]
  },
  {
   "cell_type": "code",
   "execution_count": 11,
   "metadata": {},
   "outputs": [],
   "source": [
    "l_MT = np.arange(1, 10, 1)\n",
    "file = open('template.cym', 'r')\n",
    "lines = file.readlines()\n",
    "\n",
    "fdir = '../simulation/orientation/series1/'\n",
    "file_number = 0\n",
    "\n",
    "for l in l_MT:\n",
    "    positions = []\n",
    "\n",
    "    gap = l + 1\n",
    "    for i in range(-12, 13, gap):\n",
    "        for j in range(-12, 13, gap):\n",
    "            positions.append('{} {} 0'.format(i, j))\n",
    "    \n",
    "    num_MT = int(1000 / len(positions))\n",
    "\n",
    "    fname = 'config{}.cym'.format((4-len(str(file_number)))*'0'+str(file_number))\n",
    "    with open(fdir+fname, 'w') as f:\n",
    "        for line in lines[:28]:\n",
    "            f.write(line)\n",
    "        for i in range(3):\n",
    "            for position in positions:\n",
    "                orientation = random.choice(orientations)\n",
    "                f.write('new {} microtubule\\n'.format(num_MT))\n",
    "                f.write(\"{\\n\")\n",
    "                f.write(\"\\tlength = {}\\n\".format(l))\n",
    "                f.write(\"\\tposition = {}\\n\".format(position))\n",
    "                f.write(\"\\torientation = {}\\n\".format(orientation))\n",
    "                f.write(\"\\n}\\n\\n\")\n",
    "        for line in lines[33:]:\n",
    "            f.write(line)\n",
    "    \n",
    "    file_number += 1"
   ]
  }
 ],
 "metadata": {
  "kernelspec": {
   "display_name": "base",
   "language": "python",
   "name": "python3"
  },
  "language_info": {
   "codemirror_mode": {
    "name": "ipython",
    "version": 3
   },
   "file_extension": ".py",
   "mimetype": "text/x-python",
   "name": "python",
   "nbconvert_exporter": "python",
   "pygments_lexer": "ipython3",
   "version": "3.9.12 (main, Apr  5 2022, 01:53:17) \n[Clang 12.0.0 ]"
  },
  "orig_nbformat": 4,
  "vscode": {
   "interpreter": {
    "hash": "015b106b9e7b11c74dcc40152a35c73b3abfee4457c770490c39a2b8b9503267"
   }
  }
 },
 "nbformat": 4,
 "nbformat_minor": 2
}
