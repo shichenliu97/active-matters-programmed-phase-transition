{
 "cells": [
  {
   "cell_type": "code",
   "execution_count": 4,
   "id": "12091299-117f-4bb1-b6d6-4b39d64c7e85",
   "metadata": {},
   "outputs": [
    {
     "name": "stdout",
     "output_type": "stream",
     "text": [
      "Collecting albumentations\n",
      "  Downloading albumentations-1.3.0-py3-none-any.whl (123 kB)\n",
      "\u001b[2K     \u001b[90m━━━━━━━━━━━━━━━━━━━━━━━━━━━━━━━━━━━━━━━\u001b[0m \u001b[32m123.5/123.5 kB\u001b[0m \u001b[31m6.0 MB/s\u001b[0m eta \u001b[36m0:00:00\u001b[0m\n",
      "\u001b[?25hRequirement already satisfied: scipy in /opt/anaconda3/envs/active_matters/lib/python3.9/site-packages (from albumentations) (1.5.3)\n",
      "Requirement already satisfied: numpy>=1.11.1 in /opt/anaconda3/envs/active_matters/lib/python3.9/site-packages (from albumentations) (1.23.5)\n",
      "Requirement already satisfied: scikit-image>=0.16.1 in /opt/anaconda3/envs/active_matters/lib/python3.9/site-packages (from albumentations) (0.16.2)\n",
      "Collecting qudida>=0.0.4\n",
      "  Downloading qudida-0.0.4-py3-none-any.whl (3.5 kB)\n",
      "Collecting opencv-python-headless>=4.1.1\n",
      "  Downloading opencv_python_headless-4.7.0.68-cp37-abi3-macosx_10_13_x86_64.whl (51.7 MB)\n",
      "\u001b[2K     \u001b[90m━━━━━━━━━━━━━━━━━━━━━━━━━━━━━━━━━━━━━━━━\u001b[0m \u001b[32m51.7/51.7 MB\u001b[0m \u001b[31m6.6 MB/s\u001b[0m eta \u001b[36m0:00:00\u001b[0m00:01\u001b[0m00:01\u001b[0m\n",
      "\u001b[?25hRequirement already satisfied: PyYAML in /opt/anaconda3/envs/active_matters/lib/python3.9/site-packages (from albumentations) (6.0)\n",
      "Requirement already satisfied: scikit-learn>=0.19.1 in /opt/anaconda3/envs/active_matters/lib/python3.9/site-packages (from qudida>=0.0.4->albumentations) (1.0.1)\n",
      "Requirement already satisfied: typing-extensions in /opt/anaconda3/envs/active_matters/lib/python3.9/site-packages (from qudida>=0.0.4->albumentations) (4.4.0)\n",
      "Requirement already satisfied: matplotlib!=3.0.0,>=2.0.0 in /opt/anaconda3/envs/active_matters/lib/python3.9/site-packages (from scikit-image>=0.16.1->albumentations) (3.6.2)\n",
      "Requirement already satisfied: networkx>=2.0 in /opt/anaconda3/envs/active_matters/lib/python3.9/site-packages (from scikit-image>=0.16.1->albumentations) (2.7.1)\n",
      "Requirement already satisfied: pillow>=4.3.0 in /opt/anaconda3/envs/active_matters/lib/python3.9/site-packages (from scikit-image>=0.16.1->albumentations) (9.3.0)\n",
      "Requirement already satisfied: imageio>=2.3.0 in /opt/anaconda3/envs/active_matters/lib/python3.9/site-packages (from scikit-image>=0.16.1->albumentations) (2.19.3)\n",
      "Requirement already satisfied: PyWavelets>=0.4.0 in /opt/anaconda3/envs/active_matters/lib/python3.9/site-packages (from scikit-image>=0.16.1->albumentations) (1.4.1)\n",
      "Requirement already satisfied: contourpy>=1.0.1 in /opt/anaconda3/envs/active_matters/lib/python3.9/site-packages (from matplotlib!=3.0.0,>=2.0.0->scikit-image>=0.16.1->albumentations) (1.0.5)\n",
      "Requirement already satisfied: pyparsing>=2.2.1 in /opt/anaconda3/envs/active_matters/lib/python3.9/site-packages (from matplotlib!=3.0.0,>=2.0.0->scikit-image>=0.16.1->albumentations) (3.0.9)\n",
      "Requirement already satisfied: fonttools>=4.22.0 in /opt/anaconda3/envs/active_matters/lib/python3.9/site-packages (from matplotlib!=3.0.0,>=2.0.0->scikit-image>=0.16.1->albumentations) (4.25.0)\n",
      "Requirement already satisfied: packaging>=20.0 in /opt/anaconda3/envs/active_matters/lib/python3.9/site-packages (from matplotlib!=3.0.0,>=2.0.0->scikit-image>=0.16.1->albumentations) (22.0)\n",
      "Requirement already satisfied: cycler>=0.10 in /opt/anaconda3/envs/active_matters/lib/python3.9/site-packages (from matplotlib!=3.0.0,>=2.0.0->scikit-image>=0.16.1->albumentations) (0.11.0)\n",
      "Requirement already satisfied: python-dateutil>=2.7 in /opt/anaconda3/envs/active_matters/lib/python3.9/site-packages (from matplotlib!=3.0.0,>=2.0.0->scikit-image>=0.16.1->albumentations) (2.8.2)\n",
      "Requirement already satisfied: kiwisolver>=1.0.1 in /opt/anaconda3/envs/active_matters/lib/python3.9/site-packages (from matplotlib!=3.0.0,>=2.0.0->scikit-image>=0.16.1->albumentations) (1.4.4)\n",
      "Requirement already satisfied: joblib>=0.11 in /opt/anaconda3/envs/active_matters/lib/python3.9/site-packages (from scikit-learn>=0.19.1->qudida>=0.0.4->albumentations) (1.1.1)\n",
      "Requirement already satisfied: threadpoolctl>=2.0.0 in /opt/anaconda3/envs/active_matters/lib/python3.9/site-packages (from scikit-learn>=0.19.1->qudida>=0.0.4->albumentations) (2.2.0)\n",
      "Requirement already satisfied: six>=1.5 in /opt/anaconda3/envs/active_matters/lib/python3.9/site-packages (from python-dateutil>=2.7->matplotlib!=3.0.0,>=2.0.0->scikit-image>=0.16.1->albumentations) (1.16.0)\n",
      "Installing collected packages: opencv-python-headless, qudida, albumentations\n",
      "Successfully installed albumentations-1.3.0 opencv-python-headless-4.7.0.68 qudida-0.0.4\n"
     ]
    }
   ],
   "source": [
    "!pip install -U albumentations"
   ]
  },
  {
   "cell_type": "code",
   "execution_count": 7,
   "id": "ffbe7048-7da4-4d99-ba57-9a12814069ef",
   "metadata": {},
   "outputs": [],
   "source": [
    "import numpy as np\n",
    "import pandas as pd\n",
    "\n",
    "import torch\n",
    "import torchvision\n",
    "from torch.utils.data import Dataset, DataLoader\n",
    "\n",
    "import albumentations as A\n",
    "from albumentations.pytorch import ToTensorV2\n",
    "\n",
    "import cv2\n",
    "\n",
    "from tqdm import tqdm\n",
    "\n",
    "import matplotlib.pyplot as plt\n",
    "%matplotlib inline\n",
    "\n",
    "\n",
    "####### PARAMS\n",
    "\n",
    "device      = torch.device('cpu') \n",
    "num_workers = 4\n",
    "image_size  = 512 \n",
    "batch_size  = 8\n",
    "data_path   = '/Users/scliu/Documents/AM_imaging/data/pre_print_data'"
   ]
  },
  {
   "cell_type": "code",
   "execution_count": 8,
   "id": "40f3cb3b-3c3f-4b06-8db9-fbc26daf9c27",
   "metadata": {},
   "outputs": [],
   "source": [
    "class ImageLoader(Dataset):\n",
    "    \n",
    "    def __init__(self, \n",
    "                 data, \n",
    "                 directory, \n",
    "                 transform = None):\n",
    "        self.data      = data\n",
    "        self.directory = directory\n",
    "        self.transform = transform\n",
    "        \n",
    "    def __len__(self):\n",
    "        return len(self.data)\n",
    "    \n",
    "    def __getitem__(self, idx):\n",
    "        \n",
    "        # import\n",
    "        path  = os.path.join(self.directory, self.data.iloc[idx]['image_id'])\n",
    "        image = cv2.imread(path, cv2.COLOR_BGR2RGB)\n",
    "            \n",
    "        # augmentations\n",
    "        if self.transform is not None:\n",
    "            image = self.transform(image = image)['image']\n",
    "        \n",
    "        return image"
   ]
  },
  {
   "cell_type": "code",
   "execution_count": null,
   "id": "a9b969a2-a555-4309-91c4-2227963dffe5",
   "metadata": {},
   "outputs": [],
   "source": []
  }
 ],
 "metadata": {
  "kernelspec": {
   "display_name": "Python 3 (ipykernel)",
   "language": "python",
   "name": "python3"
  },
  "language_info": {
   "codemirror_mode": {
    "name": "ipython",
    "version": 3
   },
   "file_extension": ".py",
   "mimetype": "text/x-python",
   "name": "python",
   "nbconvert_exporter": "python",
   "pygments_lexer": "ipython3",
   "version": "3.9.15"
  }
 },
 "nbformat": 4,
 "nbformat_minor": 5
}
