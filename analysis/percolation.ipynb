{
 "cells": [
  {
   "cell_type": "code",
   "execution_count": 7,
   "metadata": {},
   "outputs": [],
   "source": [
    "import networkx as nx\n",
    "import matplotlib.pyplot as plt\n",
    "import random\n",
    "import numpy as np"
   ]
  },
  {
   "cell_type": "code",
   "execution_count": 11,
   "metadata": {},
   "outputs": [],
   "source": [
    "def edge_probability_distribution(mean, std_dev):\n",
    "    return np.random.lognormal(mean, std_dev)\n"
   ]
  },
  {
   "cell_type": "code",
   "execution_count": 12,
   "metadata": {},
   "outputs": [],
   "source": [
    "def generate_graph(n, mean, std_dev, p):\n",
    "    G = nx.Graph()  # Create an empty graph\n",
    "    G.add_nodes_from(range(n))  # Add n nodes numbered from 0 to n-1\n",
    "\n",
    "    # Iterate through each pair of nodes\n",
    "    for i in range(n):\n",
    "        for j in range(i+1, n):\n",
    "            # Get the probability for the current edge from the distribution\n",
    "            if random.random() < p:\n",
    "                edge_prob = edge_probability_distribution(mean, std_dev)\n",
    "                # Add an edge between nodes i and j with the probability from the distribution\n",
    "                if random.random() < edge_prob:\n",
    "                    G.add_edge(i, j)\n",
    "                \n",
    "    return G"
   ]
  },
  {
   "cell_type": "code",
   "execution_count": 13,
   "metadata": {},
   "outputs": [],
   "source": [
    "def analyze_graph(G):\n",
    "    giant_cluster_size = 0  # Initialize giant cluster size to 0\n",
    "    \n",
    "    # Iterate through connected components of the graph\n",
    "    for component in nx.connected_components(G):\n",
    "        # Update the giant cluster size if the current component is larger\n",
    "        if len(component) > giant_cluster_size:\n",
    "            giant_cluster_size = len(component)\n",
    "\n",
    "    return giant_cluster_size / G.number_of_nodes()  # Calculate the ratio of the giant cluster size to the total number of nodes\n"
   ]
  },
  {
   "cell_type": "code",
   "execution_count": 4,
   "metadata": {},
   "outputs": [],
   "source": [
    "def analyze_graph(G):\n",
    "    giant_cluster_size = 0  # Initialize giant cluster size to 0\n",
    "    \n",
    "    # Iterate through connected components of the graph\n",
    "    for component in nx.connected_components(G):\n",
    "        # Update the giant cluster size if the current component is larger\n",
    "        if len(component) > giant_cluster_size:\n",
    "            giant_cluster_size = len(component)\n",
    "\n",
    "    return giant_cluster_size / G.number_of_nodes()  # Calculate the ratio of the giant cluster size to the total number of nodes\n"
   ]
  },
  {
   "cell_type": "code",
   "execution_count": 14,
   "metadata": {},
   "outputs": [],
   "source": [
    "n = 100  # Number of nodes\n",
    "mean = -2.3  # Mean of the underlying normal distribution for edge probabilities\n",
    "std_dev = 0.3  # Standard deviation of the underlying normal distribution for edge probabilities\n",
    "\n",
    "# Define the range of edge probabilities to iterate over\n",
    "p_values = np.linspace(0.01, 1, num=100)\n",
    "\n",
    "# Initialize lists to store results\n",
    "avg_ratios = []\n",
    "std_devs = []"
   ]
  },
  {
   "cell_type": "code",
   "execution_count": 15,
   "metadata": {},
   "outputs": [],
   "source": [
    "# Iterate over each edge probability\n",
    "for p in p_values:\n",
    "    ratios = []\n",
    "    \n",
    "    # Generate multiple graphs and calculate giant cluster ratio for each graph\n",
    "    for i in range(10):\n",
    "        G = generate_graph(n, mean, std_dev, p)\n",
    "        giant_cluster_ratio = analyze_graph(G)\n",
    "        ratios.append(giant_cluster_ratio)\n",
    "    \n",
    "    # Calculate the average and standard deviation of the giant cluster ratios for the current edge probability\n",
    "    avg_ratio = np.mean(ratios)\n",
    "    std_dev = np.std(ratios)\n",
    "    \n",
    "    # Append the results to the lists\n",
    "    avg_ratios.append(avg_ratio)\n",
    "    std_devs.append(std_dev)\n"
   ]
  },
  {
   "cell_type": "code",
   "execution_count": 16,
   "metadata": {},
   "outputs": [
    {
     "data": {
      "image/png": "[encoded data removed]",
      "text/plain": [
       "<Figure size 640x480 with 1 Axes>"
      ]
     },
     "metadata": {},
     "output_type": "display_data"
    }
   ],
   "source": [
    "fig, ax = plt.subplots()\n",
    "ax.plot(p_values, avg_ratios, 'o')\n",
    "ax.fill_between(p_values, np.array(avg_ratios) - np.array(std_devs), np.array(avg_ratios) + np.array(std_devs), alpha=0.2)\n",
    "ax.set_xlabel('Edge probability')\n",
    "ax.set_ylabel('Giant cluster ratio')\n",
    "plt.show()"
   ]
  },
  {
   "cell_type": "code",
   "execution_count": null,
   "metadata": {},
   "outputs": [],
   "source": []
  },
  {
   "attachments": {},
   "cell_type": "markdown",
   "metadata": {},
   "source": [
    "In the provided code, we have generated an undirected graph with n nodes using the log-normal distribution to define the probabilities of edge connections. The log-normal distribution is derived from an underlying normal distribution with a mean (μ) and standard deviation (σ). The probability distribution function of a log-normal distribution is given by:\n",
    "\n",
    "\\begin{equation}\n",
    "p(x) = \\frac{1}{x\\sigma\\sqrt{2\\pi}} \\cdot e^{-\\frac{(\\ln x - \\mu)^2}{2\\sigma^2}}\n",
    "\\end{equation}\n",
    "\n",
    "\n",
    "To create the graph, we iterated over all pairs of nodes and used a uniform random number generator to determine if an edge should be considered for connection (with a probability p). If the edge was considered, we generated a random probability from the log-normal distribution and used another uniform random number generator to decide whether to connect the nodes with the probability obtained from the distribution.\n",
    "\n",
    "To study the phase transition of the graph, we varied the edge consideration probability p and calculated the giant cluster ratio, which is the ratio of the largest connected component size to the total number of nodes in the graph. By averaging the giant cluster ratios for multiple graph realizations with the same edge consideration probability, we obtained a phase diagram that shows the relationship between the edge consideration probability and the giant cluster ratio.\n",
    "\n",
    "The phase diagram demonstrates how the graph transitions from having local clusters to a global cluster as the edge consideration probability increases. The error bars in the phase diagram represent the standard deviation of the giant cluster ratios calculated for each edge consideration probability. This phase diagram can provide insights into the percolation properties and critical points of the graph as the edge consideration probability changes."
   ]
  },
  {
   "cell_type": "markdown",
   "metadata": {},
   "source": []
  },
  {
   "cell_type": "markdown",
   "metadata": {},
   "source": []
  }
 ],
 "metadata": {
  "kernelspec": {
   "display_name": "active_matters",
   "language": "python",
   "name": "python3"
  },
  "language_info": {
   "codemirror_mode": {
    "name": "ipython",
    "version": 3
   },
   "file_extension": ".py",
   "mimetype": "text/x-python",
   "name": "python",
   "nbconvert_exporter": "python",
   "pygments_lexer": "ipython3",
   "version": "3.9.15"
  },
  "orig_nbformat": 4
 },
 "nbformat": 4,
 "nbformat_minor": 2
}
