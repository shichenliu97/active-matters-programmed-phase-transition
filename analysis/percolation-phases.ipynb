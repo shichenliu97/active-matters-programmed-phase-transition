{
 "cells": [
  {
   "cell_type": "code",
   "execution_count": 1,
   "metadata": {},
   "outputs": [],
   "source": [
    "## processing\n",
    "import numpy as np\n",
    "import pandas as pd\n",
    "from scipy import optimize\n",
    "import scipy.stats as stats\n",
    "\n",
    "# visualization\n",
    "import matplotlib.pyplot as plt\n",
    "import seaborn as sns\n",
    "plt.rcParams.update({'font.size': 12})\n",
    "plt.rcParams['font.family'] = 'sans-serif'\n",
    "plt.rcParams['font.sans-serif'] = \"Arial\""
   ]
  },
  {
   "attachments": {},
   "cell_type": "markdown",
   "metadata": {},
   "source": [
    "## Initial try (based on run series 4-7)"
   ]
  },
  {
   "attachments": {},
   "cell_type": "markdown",
   "metadata": {},
   "source": [
    "### Building phase diagram by eye"
   ]
  },
  {
   "cell_type": "code",
   "execution_count": 2,
   "metadata": {},
   "outputs": [],
   "source": [
    "df = pd.read_csv('../data/percolation-phases.csv')"
   ]
  },
  {
   "cell_type": "code",
   "execution_count": 3,
   "metadata": {},
   "outputs": [
    {
     "data": {
      "text/html": [
       "<div>\n",
       "<style scoped>\n",
       "    .dataframe tbody tr th:only-of-type {\n",
       "        vertical-align: middle;\n",
       "    }\n",
       "\n",
       "    .dataframe tbody tr th {\n",
       "        vertical-align: top;\n",
       "    }\n",
       "\n",
       "    .dataframe thead th {\n",
       "        text-align: right;\n",
       "    }\n",
       "</style>\n",
       "<table border=\"1\" class=\"dataframe\">\n",
       "  <thead>\n",
       "    <tr style=\"text-align: right;\">\n",
       "      <th></th>\n",
       "      <th>series</th>\n",
       "      <th>run</th>\n",
       "      <th>length</th>\n",
       "      <th>percent_long</th>\n",
       "      <th>globally_contract</th>\n",
       "    </tr>\n",
       "  </thead>\n",
       "  <tbody>\n",
       "    <tr>\n",
       "      <th>0</th>\n",
       "      <td>4</td>\n",
       "      <td>0</td>\n",
       "      <td>2</td>\n",
       "      <td>10</td>\n",
       "      <td>0</td>\n",
       "    </tr>\n",
       "    <tr>\n",
       "      <th>1</th>\n",
       "      <td>4</td>\n",
       "      <td>1</td>\n",
       "      <td>3</td>\n",
       "      <td>10</td>\n",
       "      <td>0</td>\n",
       "    </tr>\n",
       "    <tr>\n",
       "      <th>2</th>\n",
       "      <td>4</td>\n",
       "      <td>2</td>\n",
       "      <td>4</td>\n",
       "      <td>10</td>\n",
       "      <td>0</td>\n",
       "    </tr>\n",
       "    <tr>\n",
       "      <th>3</th>\n",
       "      <td>4</td>\n",
       "      <td>3</td>\n",
       "      <td>5</td>\n",
       "      <td>10</td>\n",
       "      <td>0</td>\n",
       "    </tr>\n",
       "    <tr>\n",
       "      <th>4</th>\n",
       "      <td>4</td>\n",
       "      <td>4</td>\n",
       "      <td>6</td>\n",
       "      <td>10</td>\n",
       "      <td>0</td>\n",
       "    </tr>\n",
       "  </tbody>\n",
       "</table>\n",
       "</div>"
      ],
      "text/plain": [
       "   series  run  length  percent_long  globally_contract\n",
       "0       4    0       2            10                  0\n",
       "1       4    1       3            10                  0\n",
       "2       4    2       4            10                  0\n",
       "3       4    3       5            10                  0\n",
       "4       4    4       6            10                  0"
      ]
     },
     "execution_count": 3,
     "metadata": {},
     "output_type": "execute_result"
    }
   ],
   "source": [
    "df.head()"
   ]
  },
  {
   "cell_type": "code",
   "execution_count": 4,
   "metadata": {},
   "outputs": [],
   "source": [
    "df_global = df[df.globally_contract == 1]\n",
    "df_local = df[df.globally_contract == 0]"
   ]
  },
  {
   "cell_type": "code",
   "execution_count": 5,
   "metadata": {},
   "outputs": [
    {
     "data": {
      "image/png": "[encoded data removed]",
      "text/plain": [
       "<Figure size 432x288 with 1 Axes>"
      ]
     },
     "metadata": {
      "needs_background": "light"
     },
     "output_type": "display_data"
    }
   ],
   "source": [
    "fig, ax = plt.subplots()\n",
    "ax.scatter(df_global['length'], df_global['percent_long'], color='rebeccapurple')\n",
    "ax.scatter(df_local['length'], df_local['percent_long'], color='forestgreen')\n",
    "ax.set_xlabel('Length of long MTs')\n",
    "ax.set_ylabel('Percentage of long MTs')\n",
    "ax.legend(['Global contraction', 'No global contraction'])\n",
    "plt.show()"
   ]
  },
  {
   "attachments": {},
   "cell_type": "markdown",
   "metadata": {},
   "source": [
    "#### Quantifying percentage microtubules in big aster"
   ]
  },
  {
   "cell_type": "code",
   "execution_count": 6,
   "metadata": {},
   "outputs": [],
   "source": [
    "def find_circle(x, xc, yc, r):\n",
    "    y_upper = yc + np.sqrt(r**2 - (x - xc)**2)\n",
    "    y_lower = yc - np.sqrt(r**2 - (x - xc)**2)\n",
    "    return y_upper, y_lower\n",
    "\n",
    "\n",
    "def in_circle(row, xc_2, yc_2, R_2):\n",
    "    x_coord = row['posX']\n",
    "    if x_coord < (xc_2 - R_2) or x_coord > (xc_2 + R_2):\n",
    "        return 0\n",
    "    else:\n",
    "        upper_bound, lower_bound = find_circle(x_coord, xc_2, yc_2, R_2)\n",
    "        y_coord = row['posY']\n",
    "        if y_coord > upper_bound or y_coord < lower_bound:\n",
    "            return 0\n",
    "        else:\n",
    "            return 1\n",
    "        \n",
    "def in_aster_fraction(row):\n",
    "    series_index = int(row['series'])\n",
    "    run_index = int(row['run'])\n",
    "    if run_index < 10:\n",
    "        fpath = '~/thomsonlab/simulation/percolation/full-param-search{}/run000{}/fiber_position.txt'.format(series_index, run_index)\n",
    "    elif run_index < 100:\n",
    "        fpath = '~/thomsonlab/simulation/percolation/full-param-search{}/run00{}/fiber_position.txt'.format(series_index, run_index)\n",
    "    else:\n",
    "        fpath = '~/thomsonlab/simulation/percolation/full-param-search{}/run0{}/fiber_position.txt'.format(series_index, run_index)\n",
    "\n",
    "    df = pd.read_table(fpath,\n",
    "                skiprows=5,\n",
    "                delim_whitespace=True,\n",
    "                names=['class', 'identity', 'length', 'posX', 'posY', 'dirX', 'dirY', 'endToEnd', 'cosinus', 'organizer'])\n",
    "    \n",
    "    df_short = df[df.length == 1]\n",
    "    df_long = df[df.length > 1]\n",
    "    x_long, y_long = df_long['posX'].tolist(), df_long['posY'].tolist()\n",
    "\n",
    "    def calc_R(xc, yc):\n",
    "        return np.sqrt((x_long-xc)**2 + (y_long-yc)**2)\n",
    "\n",
    "    def f_2(c):\n",
    "        Ri = calc_R(*c)\n",
    "        return Ri - Ri.mean()\n",
    "    \n",
    "    center_2, ier = optimize.leastsq(f_2, (0, 0))\n",
    "    xc_2, yc_2 = center_2\n",
    "    R_2 = calc_R(*center_2).mean()\n",
    "\n",
    "    col = df_short.apply(in_circle, args=(xc_2, yc_2, R_2), axis=1)\n",
    "    df_short = df_short.assign(in_circle=col.values)\n",
    "\n",
    "    #expected_fraction = math.pi * R_2**2 / (math.pi * 16.92**2)\n",
    "\n",
    "    return sum(df_short['in_circle']) / len(df_short)"
   ]
  },
  {
   "cell_type": "code",
   "execution_count": 7,
   "metadata": {},
   "outputs": [],
   "source": [
    "col = df.apply(in_aster_fraction, axis=1)\n",
    "df = df.assign(in_aster_frac=col.values)"
   ]
  },
  {
   "cell_type": "code",
   "execution_count": 9,
   "metadata": {},
   "outputs": [],
   "source": [
    "df = df.groupby(['length', 'percent_long']).mean().reset_index()"
   ]
  },
  {
   "cell_type": "code",
   "execution_count": 12,
   "metadata": {},
   "outputs": [
    {
     "data": {
      "image/png": "[encoded data removed]",
      "text/plain": [
       "<Figure size 432x288 with 2 Axes>"
      ]
     },
     "metadata": {
      "needs_background": "light"
     },
     "output_type": "display_data"
    }
   ],
   "source": [
    "df_pivoted = df.pivot(\"percent_long\", \"length\", \"in_aster_frac\")\n",
    "\n",
    "fig, axes = plt.subplots()\n",
    "ax = sns.heatmap(df_pivoted, cmap=sns.cm.rocket_r)\n",
    "ax.invert_yaxis()\n",
    "plt.show()"
   ]
  },
  {
   "attachments": {},
   "cell_type": "markdown",
   "metadata": {},
   "source": [
    "## Building the full phase diagram"
   ]
  },
  {
   "cell_type": "code",
   "execution_count": 20,
   "metadata": {},
   "outputs": [],
   "source": [
    "#df_list = []\n",
    "#for file_number in range(175):\n",
    "#    filename = '/Users/rosalindpan/thomsonlab/simulation/percolation/full-param-search4/config{}.cym'.format(\n",
    "#                    (4-len(str(file_number)))*'0'+str(file_number))\n",
    "#    file = open(filename, 'r')\n",
    "#    lines = file.readlines()\n",
    "#    num_long = int(lines[34].split()[1])\n",
    "#    length = int(lines[36].strip().split()[2])\n",
    "#    percent_long = round(num_long * length / 1000 * 100)\n",
    "#    rv = {'series': 4, 'run': file_number, 'length': length, 'percent_long': percent_long, 'globally_contract':0}\n",
    "#    df_list.append(rv)\n",
    "#df = pd.DataFrame(df_list)"
   ]
  },
  {
   "cell_type": "code",
   "execution_count": 14,
   "metadata": {},
   "outputs": [],
   "source": [
    "x_list = range(10, 41, 2)\n",
    "l_list = range(5, 16, 1)\n",
    "\n",
    "params = []\n",
    "for x in x_list:\n",
    "    for l in l_list:\n",
    "        params.append((x, l))\n",
    "\n",
    "df_list = []\n",
    "for i in range(176):\n",
    "    x, l = params[i]\n",
    "    rv = {'series': 4, 'run': i, 'length': l, 'percent_long': x, 'globally_contract':0}\n",
    "    df_list.append(rv)\n",
    "df = pd.DataFrame(df_list)"
   ]
  },
  {
   "cell_type": "code",
   "execution_count": 16,
   "metadata": {},
   "outputs": [],
   "source": [
    "col = df.apply(in_aster_fraction, axis=1)\n",
    "df = df.assign(in_aster_frac=col.values)\n",
    "df = df.groupby(['length', 'percent_long']).mean().reset_index()"
   ]
  },
  {
   "cell_type": "code",
   "execution_count": 17,
   "metadata": {},
   "outputs": [
    {
     "data": {
      "image/png": "[encoded data removed]",
      "text/plain": [
       "<Figure size 432x288 with 2 Axes>"
      ]
     },
     "metadata": {
      "needs_background": "light"
     },
     "output_type": "display_data"
    }
   ],
   "source": [
    "df_pivoted = df.pivot(\"percent_long\", \"length\", \"in_aster_frac\")\n",
    "\n",
    "fig, axes = plt.subplots()\n",
    "ax = sns.heatmap(df_pivoted, cmap=sns.cm.rocket_r)\n",
    "ax.invert_yaxis()\n",
    "plt.show()"
   ]
  },
  {
   "cell_type": "markdown",
   "metadata": {},
   "source": [
    "## Alternative method of identifying asters"
   ]
  },
  {
   "cell_type": "code",
   "execution_count": 23,
   "metadata": {},
   "outputs": [],
   "source": [
    "def aster_fraction(row):\n",
    "    series_index = int(row['series'])\n",
    "    run_index = int(row['run'])\n",
    "    if run_index < 10:\n",
    "        fpath = '~/thomsonlab/simulation/percolation/full-param-search{}/run000{}/fiber_position.txt'.format(series_index, run_index)\n",
    "    elif run_index < 100:\n",
    "        fpath = '~/thomsonlab/simulation/percolation/full-param-search{}/run00{}/fiber_position.txt'.format(series_index, run_index)\n",
    "    else:\n",
    "        fpath = '~/thomsonlab/simulation/percolation/full-param-search{}/run0{}/fiber_position.txt'.format(series_index, run_index)\n",
    "\n",
    "    df = pd.read_table(fpath,\n",
    "                skiprows=5,\n",
    "                delim_whitespace=True,\n",
    "                names=['class', 'identity', 'length', 'posX', 'posY', 'dirX', 'dirY', 'endToEnd', 'cosinus', 'organizer'])\n",
    "    df = df.dropna(how='any')\n",
    "\n",
    "    x = df['posX']\n",
    "    y = df['posY']\n",
    "    data = np.vstack((x, y))\n",
    "\n",
    "    kde = stats.kde.gaussian_kde(data)\n",
    "    gx, gy = np.mgrid[x.min():x.max():128j, y.min():y.max():128j]\n",
    "    gxy = np.dstack((gx, gy)) # shape is (128, 128, 2)\n",
    "    z = np.apply_along_axis(kde, 2, gxy)\n",
    "    z = z.reshape(128, 128)\n",
    "\n",
    "    center_ix, center_iy = np.unravel_index(z.argmax(), z.shape)\n",
    "    center_x = center_ix / 128 * (x.max() - x.min()) + x.min()\n",
    "    center_y = center_iy / 128 * (y.max() - y.min()) + y.min()\n",
    "\n",
    "    df_short = df[df.length == 1]\n",
    "    col = df_short.apply(in_circle, args=(center_x, center_y, 1), axis=1)\n",
    "    df_short = df_short.assign(in_circle=col.values)\n",
    "\n",
    "    return sum(df_short['in_circle']) / len(df_short)"
   ]
  },
  {
   "cell_type": "code",
   "execution_count": 24,
   "metadata": {},
   "outputs": [],
   "source": [
    "col = df.apply(aster_fraction, axis=1)\n",
    "df = df.assign(in_aster_frac=col.values)\n",
    "df = df.groupby(['length', 'percent_long']).mean().reset_index()"
   ]
  },
  {
   "cell_type": "code",
   "execution_count": 29,
   "metadata": {},
   "outputs": [
    {
     "data": {
      "image/png": "[encoded data removed]",
      "text/plain": [
       "<Figure size 540x432 with 2 Axes>"
      ]
     },
     "metadata": {
      "needs_background": "light"
     },
     "output_type": "display_data"
    }
   ],
   "source": [
    "df_pivoted = df.pivot(\"percent_long\", \"length\", \"in_aster_frac\")\n",
    "\n",
    "fig, axes = plt.subplots(figsize=(7.5,6))\n",
    "ax = sns.heatmap(df_pivoted, cmap=sns.cm.rocket_r)\n",
    "ax.invert_yaxis()\n",
    "plt.show()"
   ]
  }
 ],
 "metadata": {
  "kernelspec": {
   "display_name": "base",
   "language": "python",
   "name": "python3"
  },
  "language_info": {
   "codemirror_mode": {
    "name": "ipython",
    "version": 3
   },
   "file_extension": ".py",
   "mimetype": "text/x-python",
   "name": "python",
   "nbconvert_exporter": "python",
   "pygments_lexer": "ipython3",
   "version": "3.9.12"
  },
  "orig_nbformat": 4,
  "vscode": {
   "interpreter": {
    "hash": "015b106b9e7b11c74dcc40152a35c73b3abfee4457c770490c39a2b8b9503267"
   }
  }
 },
 "nbformat": 4,
 "nbformat_minor": 2
}
