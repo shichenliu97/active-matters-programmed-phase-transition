{
 "cells": [
  {
   "cell_type": "code",
   "execution_count": 1,
   "metadata": {},
   "outputs": [],
   "source": [
    "## processing\n",
    "import numpy as np\n",
    "import pandas as pd\n",
    "from scipy import optimize\n",
    "import scipy.stats as stats\n",
    "\n",
    "# visualization\n",
    "import matplotlib.pyplot as plt\n",
    "import seaborn as sns"
   ]
  },
  {
   "attachments": {},
   "cell_type": "markdown",
   "metadata": {},
   "source": [
    "## Functions"
   ]
  },
  {
   "cell_type": "code",
   "execution_count": 13,
   "metadata": {},
   "outputs": [],
   "source": [
    "def find_circle(x, xc, yc, r):\n",
    "    y_upper = yc + np.sqrt(r**2 - (x - xc)**2)\n",
    "    y_lower = yc - np.sqrt(r**2 - (x - xc)**2)\n",
    "    return y_upper, y_lower\n",
    "\n",
    "\n",
    "def in_circle(row, xc_2, yc_2, R_2):\n",
    "    x_coord = row['posX']\n",
    "    print(x_coord, xc_2, yc_2, R_2)\n",
    "    if x_coord < (xc_2 - R_2) or x_coord > (xc_2 + R_2):\n",
    "        return 0\n",
    "    else:\n",
    "        upper_bound, lower_bound = find_circle(x_coord, xc_2, yc_2, R_2)\n",
    "        y_coord = row['posY']\n",
    "        if y_coord > upper_bound or y_coord < lower_bound:\n",
    "            return 0\n",
    "        else:\n",
    "            return 1"
   ]
  },
  {
   "cell_type": "code",
   "execution_count": 3,
   "metadata": {},
   "outputs": [],
   "source": [
    "def in_aster_fraction(row):\n",
    "    series_index = int(row['series'])\n",
    "    run_index = int(row['run'])\n",
    "    if run_index < 10:\n",
    "        fpath = '~/thomsonlab/simulation/percolation/full-param-search{}/run000{}/fiber_position.txt'.format(series_index, run_index)\n",
    "    elif run_index < 100:\n",
    "        fpath = '~/thomsonlab/simulation/percolation/full-param-search{}/run00{}/fiber_position.txt'.format(series_index, run_index)\n",
    "    else:\n",
    "        fpath = '~/thomsonlab/simulation/percolation/full-param-search{}/run0{}/fiber_position.txt'.format(series_index, run_index)\n",
    "\n",
    "    df = pd.read_table(fpath,\n",
    "                skiprows=5,\n",
    "                delim_whitespace=True,\n",
    "                names=['class', 'identity', 'length', 'posX', 'posY', 'dirX', 'dirY', 'endToEnd', 'cosinus', 'organizer'])\n",
    "    \n",
    "    df_short = df[df.length == 1]\n",
    "    df_long = df[df.length > 1]\n",
    "    x_long, y_long = df_long['posX'].tolist(), df_long['posY'].tolist()\n",
    "\n",
    "    def calc_R(xc, yc):\n",
    "        return np.sqrt((x_long-xc)**2 + (y_long-yc)**2)\n",
    "\n",
    "    def f_2(c):\n",
    "        Ri = calc_R(*c)\n",
    "        return Ri - Ri.mean()\n",
    "    \n",
    "    center_2, ier = optimize.leastsq(f_2, (0, 0))\n",
    "    xc_2, yc_2 = center_2\n",
    "    R_2 = calc_R(*center_2).mean()\n",
    "\n",
    "    col = df_short.apply(in_circle, args=(xc_2, yc_2, R_2), axis=1)\n",
    "    df_short = df_short.assign(in_circle=col.values)\n",
    "\n",
    "    #expected_fraction = math.pi * R_2**2 / (math.pi * 16.92**2)\n",
    "\n",
    "    return sum(df_short['in_circle']) / len(df_short)"
   ]
  },
  {
   "attachments": {},
   "cell_type": "markdown",
   "metadata": {},
   "source": [
    "## Initial try at building phase diagram"
   ]
  },
  {
   "cell_type": "code",
   "execution_count": 2,
   "metadata": {},
   "outputs": [],
   "source": [
    "df = pd.read_csv('../data/percolation-phases.csv')"
   ]
  },
  {
   "cell_type": "code",
   "execution_count": 3,
   "metadata": {},
   "outputs": [
    {
     "data": {
      "text/html": [
       "<div>\n",
       "<style scoped>\n",
       "    .dataframe tbody tr th:only-of-type {\n",
       "        vertical-align: middle;\n",
       "    }\n",
       "\n",
       "    .dataframe tbody tr th {\n",
       "        vertical-align: top;\n",
       "    }\n",
       "\n",
       "    .dataframe thead th {\n",
       "        text-align: right;\n",
       "    }\n",
       "</style>\n",
       "<table border=\"1\" class=\"dataframe\">\n",
       "  <thead>\n",
       "    <tr style=\"text-align: right;\">\n",
       "      <th></th>\n",
       "      <th>series</th>\n",
       "      <th>run</th>\n",
       "      <th>length</th>\n",
       "      <th>percent_long</th>\n",
       "      <th>globally_contract</th>\n",
       "    </tr>\n",
       "  </thead>\n",
       "  <tbody>\n",
       "    <tr>\n",
       "      <th>0</th>\n",
       "      <td>4</td>\n",
       "      <td>0</td>\n",
       "      <td>2</td>\n",
       "      <td>10</td>\n",
       "      <td>0</td>\n",
       "    </tr>\n",
       "    <tr>\n",
       "      <th>1</th>\n",
       "      <td>4</td>\n",
       "      <td>1</td>\n",
       "      <td>3</td>\n",
       "      <td>10</td>\n",
       "      <td>0</td>\n",
       "    </tr>\n",
       "    <tr>\n",
       "      <th>2</th>\n",
       "      <td>4</td>\n",
       "      <td>2</td>\n",
       "      <td>4</td>\n",
       "      <td>10</td>\n",
       "      <td>0</td>\n",
       "    </tr>\n",
       "    <tr>\n",
       "      <th>3</th>\n",
       "      <td>4</td>\n",
       "      <td>3</td>\n",
       "      <td>5</td>\n",
       "      <td>10</td>\n",
       "      <td>0</td>\n",
       "    </tr>\n",
       "    <tr>\n",
       "      <th>4</th>\n",
       "      <td>4</td>\n",
       "      <td>4</td>\n",
       "      <td>6</td>\n",
       "      <td>10</td>\n",
       "      <td>0</td>\n",
       "    </tr>\n",
       "  </tbody>\n",
       "</table>\n",
       "</div>"
      ],
      "text/plain": [
       "   series  run  length  percent_long  globally_contract\n",
       "0       4    0       2            10                  0\n",
       "1       4    1       3            10                  0\n",
       "2       4    2       4            10                  0\n",
       "3       4    3       5            10                  0\n",
       "4       4    4       6            10                  0"
      ]
     },
     "execution_count": 3,
     "metadata": {},
     "output_type": "execute_result"
    }
   ],
   "source": [
    "df.head()"
   ]
  },
  {
   "cell_type": "code",
   "execution_count": 4,
   "metadata": {},
   "outputs": [],
   "source": [
    "df_global = df[df.globally_contract == 1]\n",
    "df_local = df[df.globally_contract == 0]"
   ]
  },
  {
   "cell_type": "code",
   "execution_count": 5,
   "metadata": {},
   "outputs": [
    {
     "data": {
      "image/png": "[encoded data removed]",
      "text/plain": [
       "<Figure size 432x288 with 1 Axes>"
      ]
     },
     "metadata": {
      "needs_background": "light"
     },
     "output_type": "display_data"
    }
   ],
   "source": [
    "fig, ax = plt.subplots()\n",
    "ax.scatter(df_global['length'], df_global['percent_long'], color='rebeccapurple')\n",
    "ax.scatter(df_local['length'], df_local['percent_long'], color='forestgreen')\n",
    "ax.set_xlabel('Length of long MTs')\n",
    "ax.set_ylabel('Percentage of long MTs')\n",
    "ax.legend(['Global contraction', 'No global contraction'])\n",
    "plt.show()"
   ]
  },
  {
   "cell_type": "code",
   "execution_count": 7,
   "metadata": {},
   "outputs": [],
   "source": [
    "col = df.apply(in_aster_fraction, axis=1)\n",
    "df = df.assign(in_aster_frac=col.values)"
   ]
  },
  {
   "cell_type": "code",
   "execution_count": 9,
   "metadata": {},
   "outputs": [],
   "source": [
    "df = df.groupby(['length', 'percent_long']).mean().reset_index()"
   ]
  },
  {
   "cell_type": "code",
   "execution_count": 12,
   "metadata": {},
   "outputs": [
    {
     "data": {
      "image/png": "[encoded data removed]",
      "text/plain": [
       "<Figure size 432x288 with 2 Axes>"
      ]
     },
     "metadata": {
      "needs_background": "light"
     },
     "output_type": "display_data"
    }
   ],
   "source": [
    "df_pivoted = df.pivot(\"percent_long\", \"length\", \"in_aster_frac\")\n",
    "\n",
    "fig, axes = plt.subplots()\n",
    "ax = sns.heatmap(df_pivoted, cmap=sns.cm.rocket_r)\n",
    "ax.invert_yaxis()\n",
    "plt.show()"
   ]
  },
  {
   "attachments": {},
   "cell_type": "markdown",
   "metadata": {},
   "source": [
    "## Building the full phase diagram"
   ]
  },
  {
   "cell_type": "code",
   "execution_count": 4,
   "metadata": {},
   "outputs": [],
   "source": [
    "df_list = []\n",
    "for file_number in range(140):\n",
    "    filename = '/Users/rosalindpan/thomsonlab/simulation/percolation/full-param-search2/config{}.cym'.format(\n",
    "                    (4-len(str(file_number)))*'0'+str(file_number))\n",
    "    file = open(filename, 'r')\n",
    "    lines = file.readlines()\n",
    "    num_long = int(lines[34].split()[1])\n",
    "    length = int(lines[36].strip().split()[2])\n",
    "    percent_long = int(num_long * length / 1000 * 100)\n",
    "    if (percent_long) % 2 != 0:\n",
    "        percent_long += 1\n",
    "    rv = {'series': 2, 'run': file_number, 'length': length, 'percent_long': percent_long, 'globally_contract':0}\n",
    "    df_list.append(rv)"
   ]
  },
  {
   "cell_type": "code",
   "execution_count": 5,
   "metadata": {},
   "outputs": [],
   "source": [
    "df = pd.DataFrame(df_list)"
   ]
  },
  {
   "cell_type": "code",
   "execution_count": 6,
   "metadata": {},
   "outputs": [],
   "source": [
    "df_list = []\n",
    "for file_number in range(70):\n",
    "    filename = '/Users/rosalindpan/thomsonlab/simulation/percolation/full-param-search3/config{}.cym'.format(\n",
    "                    (4-len(str(file_number)))*'0'+str(file_number))\n",
    "    file = open(filename, 'r')\n",
    "    lines = file.readlines()\n",
    "    num_long = int(lines[34].split()[1])\n",
    "    length = int(lines[36].strip().split()[2])\n",
    "    percent_long = int(num_long * length / 1000 * 100)\n",
    "    if (percent_long) % 2 != 0:\n",
    "        percent_long += 1\n",
    "    rv = {'series':3, 'run': file_number, 'length': length, 'percent_long': percent_long, 'globally_contract':0}\n",
    "    df_list.append(rv)"
   ]
  },
  {
   "cell_type": "code",
   "execution_count": 7,
   "metadata": {},
   "outputs": [],
   "source": [
    "df2 = pd.DataFrame(df_list)"
   ]
  },
  {
   "cell_type": "code",
   "execution_count": 8,
   "metadata": {},
   "outputs": [],
   "source": [
    "df_total = pd.concat([df, df2], ignore_index=True)"
   ]
  },
  {
   "cell_type": "code",
   "execution_count": 10,
   "metadata": {},
   "outputs": [
    {
     "data": {
      "text/html": [
       "<div>\n",
       "<style scoped>\n",
       "    .dataframe tbody tr th:only-of-type {\n",
       "        vertical-align: middle;\n",
       "    }\n",
       "\n",
       "    .dataframe tbody tr th {\n",
       "        vertical-align: top;\n",
       "    }\n",
       "\n",
       "    .dataframe thead th {\n",
       "        text-align: right;\n",
       "    }\n",
       "</style>\n",
       "<table border=\"1\" class=\"dataframe\">\n",
       "  <thead>\n",
       "    <tr style=\"text-align: right;\">\n",
       "      <th></th>\n",
       "      <th>series</th>\n",
       "      <th>run</th>\n",
       "      <th>length</th>\n",
       "      <th>percent_long</th>\n",
       "      <th>globally_contract</th>\n",
       "    </tr>\n",
       "  </thead>\n",
       "  <tbody>\n",
       "    <tr>\n",
       "      <th>0</th>\n",
       "      <td>2</td>\n",
       "      <td>0</td>\n",
       "      <td>2</td>\n",
       "      <td>20</td>\n",
       "      <td>0</td>\n",
       "    </tr>\n",
       "    <tr>\n",
       "      <th>1</th>\n",
       "      <td>2</td>\n",
       "      <td>1</td>\n",
       "      <td>3</td>\n",
       "      <td>20</td>\n",
       "      <td>0</td>\n",
       "    </tr>\n",
       "    <tr>\n",
       "      <th>2</th>\n",
       "      <td>2</td>\n",
       "      <td>2</td>\n",
       "      <td>4</td>\n",
       "      <td>20</td>\n",
       "      <td>0</td>\n",
       "    </tr>\n",
       "    <tr>\n",
       "      <th>3</th>\n",
       "      <td>2</td>\n",
       "      <td>3</td>\n",
       "      <td>5</td>\n",
       "      <td>20</td>\n",
       "      <td>0</td>\n",
       "    </tr>\n",
       "    <tr>\n",
       "      <th>4</th>\n",
       "      <td>2</td>\n",
       "      <td>4</td>\n",
       "      <td>6</td>\n",
       "      <td>20</td>\n",
       "      <td>0</td>\n",
       "    </tr>\n",
       "  </tbody>\n",
       "</table>\n",
       "</div>"
      ],
      "text/plain": [
       "   series  run  length  percent_long  globally_contract\n",
       "0       2    0       2            20                  0\n",
       "1       2    1       3            20                  0\n",
       "2       2    2       4            20                  0\n",
       "3       2    3       5            20                  0\n",
       "4       2    4       6            20                  0"
      ]
     },
     "execution_count": 10,
     "metadata": {},
     "output_type": "execute_result"
    }
   ],
   "source": [
    "df_total.head()"
   ]
  },
  {
   "cell_type": "code",
   "execution_count": 10,
   "metadata": {},
   "outputs": [],
   "source": [
    "df_total.to_csv('../data/percolation-full.csv', index=False)"
   ]
  },
  {
   "cell_type": "code",
   "execution_count": 11,
   "metadata": {},
   "outputs": [
    {
     "data": {
      "text/html": [
       "<div>\n",
       "<style scoped>\n",
       "    .dataframe tbody tr th:only-of-type {\n",
       "        vertical-align: middle;\n",
       "    }\n",
       "\n",
       "    .dataframe tbody tr th {\n",
       "        vertical-align: top;\n",
       "    }\n",
       "\n",
       "    .dataframe thead th {\n",
       "        text-align: right;\n",
       "    }\n",
       "</style>\n",
       "<table border=\"1\" class=\"dataframe\">\n",
       "  <thead>\n",
       "    <tr style=\"text-align: right;\">\n",
       "      <th></th>\n",
       "      <th>series</th>\n",
       "      <th>run</th>\n",
       "      <th>length</th>\n",
       "      <th>percent_long</th>\n",
       "      <th>globally_contract</th>\n",
       "    </tr>\n",
       "  </thead>\n",
       "  <tbody>\n",
       "    <tr>\n",
       "      <th>0</th>\n",
       "      <td>2</td>\n",
       "      <td>0</td>\n",
       "      <td>2</td>\n",
       "      <td>20</td>\n",
       "      <td>0</td>\n",
       "    </tr>\n",
       "    <tr>\n",
       "      <th>1</th>\n",
       "      <td>2</td>\n",
       "      <td>1</td>\n",
       "      <td>3</td>\n",
       "      <td>20</td>\n",
       "      <td>0</td>\n",
       "    </tr>\n",
       "    <tr>\n",
       "      <th>2</th>\n",
       "      <td>2</td>\n",
       "      <td>2</td>\n",
       "      <td>4</td>\n",
       "      <td>20</td>\n",
       "      <td>0</td>\n",
       "    </tr>\n",
       "    <tr>\n",
       "      <th>3</th>\n",
       "      <td>2</td>\n",
       "      <td>3</td>\n",
       "      <td>5</td>\n",
       "      <td>20</td>\n",
       "      <td>0</td>\n",
       "    </tr>\n",
       "    <tr>\n",
       "      <th>4</th>\n",
       "      <td>2</td>\n",
       "      <td>4</td>\n",
       "      <td>6</td>\n",
       "      <td>20</td>\n",
       "      <td>0</td>\n",
       "    </tr>\n",
       "  </tbody>\n",
       "</table>\n",
       "</div>"
      ],
      "text/plain": [
       "   series  run  length  percent_long  globally_contract\n",
       "0       2    0       2            20                  0\n",
       "1       2    1       3            20                  0\n",
       "2       2    2       4            20                  0\n",
       "3       2    3       5            20                  0\n",
       "4       2    4       6            20                  0"
      ]
     },
     "execution_count": 11,
     "metadata": {},
     "output_type": "execute_result"
    }
   ],
   "source": [
    "df_total.head()"
   ]
  },
  {
   "cell_type": "code",
   "execution_count": 12,
   "metadata": {},
   "outputs": [],
   "source": [
    "col = df_total.apply(in_aster_fraction, axis=1)"
   ]
  },
  {
   "cell_type": "code",
   "execution_count": 13,
   "metadata": {},
   "outputs": [],
   "source": [
    "df_total = df_total.assign(in_aster_frac=col.values)"
   ]
  },
  {
   "cell_type": "code",
   "execution_count": 14,
   "metadata": {},
   "outputs": [],
   "source": [
    "df_total = df_total.groupby(['length', 'percent_long']).mean().reset_index()"
   ]
  },
  {
   "cell_type": "code",
   "execution_count": 15,
   "metadata": {},
   "outputs": [
    {
     "data": {
      "image/png": "[encoded data removed]",
      "text/plain": [
       "<Figure size 432x288 with 2 Axes>"
      ]
     },
     "metadata": {
      "needs_background": "light"
     },
     "output_type": "display_data"
    }
   ],
   "source": [
    "df_pivoted = df_total.pivot(\"percent_long\", \"length\", \"in_aster_frac\")\n",
    "\n",
    "fig, axes = plt.subplots()\n",
    "ax = sns.heatmap(df_pivoted, cmap=sns.cm.rocket_r)\n",
    "ax.invert_yaxis()\n",
    "plt.show()"
   ]
  },
  {
   "attachments": {},
   "cell_type": "markdown",
   "metadata": {},
   "source": [
    "## Alternative method of identifying asters"
   ]
  },
  {
   "cell_type": "code",
   "execution_count": 21,
   "metadata": {},
   "outputs": [],
   "source": [
    "def find_circle(x, xc, yc, r):\n",
    "    y_upper = yc + np.sqrt(r**2 - (x - xc)**2)\n",
    "    y_lower = yc - np.sqrt(r**2 - (x - xc)**2)\n",
    "    return y_upper, y_lower\n",
    "\n",
    "\n",
    "def in_circle(row, xc_2, yc_2, R_2):\n",
    "    x_coord = row['posX']\n",
    "    if x_coord < (xc_2 - R_2) or x_coord > (xc_2 + R_2):\n",
    "        return 0\n",
    "    else:\n",
    "        upper_bound, lower_bound = find_circle(x_coord, xc_2, yc_2, R_2)\n",
    "        y_coord = row['posY']\n",
    "        if y_coord > upper_bound or y_coord < lower_bound:\n",
    "            return 0\n",
    "        else:\n",
    "            return 1\n",
    "\n",
    "def aster_fraction(row):\n",
    "    series_index = int(row['series'])\n",
    "    run_index = int(row['run'])\n",
    "    print(series_index, run_index)\n",
    "    if run_index < 10:\n",
    "        fpath = '~/thomsonlab/simulation/percolation/full-param-search{}/run000{}/fiber_position.txt'.format(series_index, run_index)\n",
    "    elif run_index < 100:\n",
    "        fpath = '~/thomsonlab/simulation/percolation/full-param-search{}/run00{}/fiber_position.txt'.format(series_index, run_index)\n",
    "    else:\n",
    "        fpath = '~/thomsonlab/simulation/percolation/full-param-search{}/run0{}/fiber_position.txt'.format(series_index, run_index)\n",
    "\n",
    "    df = pd.read_table(fpath,\n",
    "                skiprows=5,\n",
    "                delim_whitespace=True,\n",
    "                names=['class', 'identity', 'length', 'posX', 'posY', 'dirX', 'dirY', 'endToEnd', 'cosinus', 'organizer'])\n",
    "    df = df.dropna(how='any')\n",
    "\n",
    "    x = df['posX']\n",
    "    y = df['posY']\n",
    "    data = np.vstack((x, y))\n",
    "\n",
    "    kde = stats.kde.gaussian_kde(data)\n",
    "    gx, gy = np.mgrid[x.min():x.max():128j, y.min():y.max():128j]\n",
    "    gxy = np.dstack((gx, gy)) # shape is (128, 128, 2)\n",
    "    z = np.apply_along_axis(kde, 2, gxy)\n",
    "    z = z.reshape(128, 128)\n",
    "\n",
    "    center_ix, center_iy = np.unravel_index(z.argmax(), z.shape)\n",
    "    center_x = center_ix / 128 * (x.max() - x.min()) + x.min()\n",
    "    center_y = center_iy / 128 * (y.max() - y.min()) + y.min()\n",
    "\n",
    "    df_short = df[df.length == 1]\n",
    "    col = df_short.apply(in_circle, args=(center_x, center_y, 1), axis=1)\n",
    "    df_short = df_short.assign(in_circle=col.values)\n",
    "\n",
    "    return sum(df_short['in_circle']) / len(df_short)"
   ]
  },
  {
   "cell_type": "code",
   "execution_count": 22,
   "metadata": {},
   "outputs": [
    {
     "name": "stdout",
     "output_type": "stream",
     "text": [
      "2 0\n",
      "2 1\n",
      "2 2\n",
      "2 3\n",
      "2 4\n",
      "2 5\n",
      "2 6\n",
      "2 7\n",
      "2 8\n",
      "2 9\n",
      "2 10\n",
      "2 11\n",
      "2 12\n",
      "2 13\n",
      "2 14\n",
      "2 15\n",
      "2 16\n",
      "2 17\n",
      "2 18\n",
      "2 19\n",
      "2 20\n",
      "2 21\n",
      "2 22\n",
      "2 23\n",
      "2 24\n",
      "2 25\n",
      "2 26\n",
      "2 27\n",
      "2 28\n",
      "2 29\n",
      "2 30\n",
      "2 31\n",
      "2 32\n",
      "2 33\n",
      "2 34\n",
      "2 35\n",
      "2 36\n",
      "2 37\n",
      "2 38\n",
      "2 39\n",
      "2 40\n",
      "2 41\n",
      "2 42\n",
      "2 43\n",
      "2 44\n",
      "2 45\n",
      "2 46\n",
      "2 47\n",
      "2 48\n",
      "2 49\n",
      "2 50\n",
      "2 51\n",
      "2 52\n",
      "2 53\n",
      "2 54\n",
      "2 55\n",
      "2 56\n",
      "2 57\n",
      "2 58\n",
      "2 59\n",
      "2 60\n",
      "2 61\n",
      "2 62\n",
      "2 63\n",
      "2 64\n",
      "2 65\n",
      "2 66\n",
      "2 67\n",
      "2 68\n",
      "2 69\n",
      "2 70\n",
      "2 71\n",
      "2 72\n",
      "2 73\n",
      "2 74\n",
      "2 75\n",
      "2 76\n",
      "2 77\n",
      "2 78\n",
      "2 79\n",
      "2 80\n",
      "2 81\n",
      "2 82\n",
      "2 83\n",
      "2 84\n",
      "2 85\n",
      "2 86\n",
      "2 87\n",
      "2 88\n",
      "2 89\n",
      "2 90\n",
      "2 91\n",
      "2 92\n",
      "2 93\n",
      "2 94\n",
      "2 95\n",
      "2 96\n",
      "2 97\n",
      "2 98\n",
      "2 99\n",
      "2 100\n",
      "2 101\n",
      "2 102\n",
      "2 103\n",
      "2 104\n",
      "2 105\n",
      "2 106\n",
      "2 107\n",
      "2 108\n",
      "2 109\n",
      "2 110\n",
      "2 111\n",
      "2 112\n",
      "2 113\n",
      "2 114\n",
      "2 115\n",
      "2 116\n",
      "2 117\n",
      "2 118\n",
      "2 119\n",
      "2 120\n",
      "2 121\n",
      "2 122\n",
      "2 123\n",
      "2 124\n",
      "2 125\n",
      "2 126\n",
      "2 127\n",
      "2 128\n",
      "2 129\n",
      "2 130\n",
      "2 131\n",
      "2 132\n",
      "2 133\n",
      "2 134\n",
      "2 135\n",
      "2 136\n",
      "2 137\n",
      "2 138\n",
      "2 139\n",
      "3 0\n",
      "3 1\n",
      "3 2\n",
      "3 3\n",
      "3 4\n",
      "3 5\n",
      "3 6\n",
      "3 7\n",
      "3 8\n",
      "3 9\n",
      "3 10\n",
      "3 11\n",
      "3 12\n",
      "3 13\n",
      "3 14\n",
      "3 15\n",
      "3 16\n",
      "3 17\n",
      "3 18\n",
      "3 19\n",
      "3 20\n",
      "3 21\n",
      "3 22\n",
      "3 23\n",
      "3 24\n",
      "3 25\n",
      "3 26\n",
      "3 27\n",
      "3 28\n",
      "3 29\n",
      "3 30\n",
      "3 31\n",
      "3 32\n",
      "3 33\n",
      "3 34\n",
      "3 35\n",
      "3 36\n",
      "3 37\n",
      "3 38\n",
      "3 39\n",
      "3 40\n",
      "3 41\n",
      "3 42\n",
      "3 43\n",
      "3 44\n",
      "3 45\n",
      "3 46\n",
      "3 47\n",
      "3 48\n",
      "3 49\n",
      "3 50\n",
      "3 51\n",
      "3 52\n",
      "3 53\n",
      "3 54\n",
      "3 55\n",
      "3 56\n",
      "3 57\n",
      "3 58\n",
      "3 59\n",
      "3 60\n",
      "3 61\n",
      "3 62\n",
      "3 63\n",
      "3 64\n",
      "3 65\n",
      "3 66\n",
      "3 67\n",
      "3 68\n",
      "3 69\n"
     ]
    }
   ],
   "source": [
    "col = df_total.apply(aster_fraction, axis=1)"
   ]
  },
  {
   "cell_type": "code",
   "execution_count": 23,
   "metadata": {},
   "outputs": [],
   "source": [
    "df_total = df_total.assign(in_aster_frac=col.values)\n",
    "df_total = df_total.groupby(['length', 'percent_long']).mean().reset_index()"
   ]
  },
  {
   "cell_type": "code",
   "execution_count": 24,
   "metadata": {},
   "outputs": [
    {
     "data": {
      "image/png": "[encoded data removed]",
      "text/plain": [
       "<Figure size 432x288 with 2 Axes>"
      ]
     },
     "metadata": {
      "needs_background": "light"
     },
     "output_type": "display_data"
    }
   ],
   "source": [
    "df_pivoted = df_total.pivot(\"percent_long\", \"length\", \"in_aster_frac\")\n",
    "\n",
    "fig, axes = plt.subplots()\n",
    "ax = sns.heatmap(df_pivoted, cmap=sns.cm.rocket_r)\n",
    "ax.invert_yaxis()\n",
    "plt.show()"
   ]
  },
  {
   "cell_type": "code",
   "execution_count": null,
   "metadata": {},
   "outputs": [],
   "source": []
  }
 ],
 "metadata": {
  "kernelspec": {
   "display_name": "base",
   "language": "python",
   "name": "python3"
  },
  "language_info": {
   "codemirror_mode": {
    "name": "ipython",
    "version": 3
   },
   "file_extension": ".py",
   "mimetype": "text/x-python",
   "name": "python",
   "nbconvert_exporter": "python",
   "pygments_lexer": "ipython3",
   "version": "3.9.12"
  },
  "orig_nbformat": 4,
  "vscode": {
   "interpreter": {
    "hash": "015b106b9e7b11c74dcc40152a35c73b3abfee4457c770490c39a2b8b9503267"
   }
  }
 },
 "nbformat": 4,
 "nbformat_minor": 2
}
