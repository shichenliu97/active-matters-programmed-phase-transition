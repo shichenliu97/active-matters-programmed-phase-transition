{
 "cells": [
  {
   "cell_type": "code",
   "execution_count": 1,
   "metadata": {},
   "outputs": [],
   "source": [
    "# processing\n",
    "import math\n",
    "import scipy.stats as stats\n",
    "import numpy as np\n",
    "import pandas as pd\n",
    "\n",
    "# visualization\n",
    "import matplotlib.pyplot as plt\n",
    "import seaborn as sns"
   ]
  },
  {
   "attachments": {},
   "cell_type": "markdown",
   "metadata": {},
   "source": [
    "## Functions"
   ]
  },
  {
   "cell_type": "code",
   "execution_count": 8,
   "metadata": {},
   "outputs": [],
   "source": [
    "def find_circle(x, xc, yc, r):\n",
    "    y_upper = yc + np.sqrt(r**2 - (x - xc)**2)\n",
    "    y_lower = yc - np.sqrt(r**2 - (x - xc)**2)\n",
    "    return y_upper, y_lower"
   ]
  },
  {
   "cell_type": "code",
   "execution_count": 9,
   "metadata": {},
   "outputs": [],
   "source": [
    "def in_circle(row, xc_2, yc_2, R_2):\n",
    "    x_coord = row['posX']\n",
    "    if x_coord < (xc_2 - R_2) or x_coord > (xc_2 + R_2):\n",
    "        return 0\n",
    "    else:\n",
    "        upper_bound, lower_bound = find_circle(x_coord, xc_2, yc_2, R_2)\n",
    "        y_coord = row['posY']\n",
    "        if y_coord > upper_bound or y_coord < lower_bound:\n",
    "            return 0\n",
    "        else:\n",
    "            return 1"
   ]
  },
  {
   "cell_type": "code",
   "execution_count": null,
   "metadata": {},
   "outputs": [],
   "source": [
    "def in_aster_fraction(row):\n",
    "    series_index = row['series']\n",
    "    run_index = row['run']\n",
    "    if run_index < 10:\n",
    "        fpath = '~/thomsonlab/simulation/percolation/run-series{}/run000{}/fiber_position.txt'.format(series_index, run_index)\n",
    "    else:\n",
    "        fpath = '~/thomsonlab/simulation/percolation/run-series{}/run00{}/fiber_position.txt'.format(series_index, run_index)\n",
    "\n",
    "    df = pd.read_table(fpath,\n",
    "                skiprows=5,\n",
    "                delim_whitespace=True,\n",
    "                names=['class', 'identity', 'length', 'posX', 'posY', 'dirX', 'dirY', 'endToEnd', 'cosinus', 'organizer'])\n",
    "    df = df.dropna(how='any')\n",
    "\n",
    "    col = df_short.apply(in_circle, args=(xc_2, yc_2, R_2), axis=1)\n",
    "    df_short = df_short.assign(in_circle=col.values)\n",
    "\n",
    "    #expected_fraction = math.pi * R_2**2 / (math.pi * 16.92**2)\n",
    "\n",
    "    return sum(df_short['in_circle']) / len(df_short)"
   ]
  },
  {
   "attachments": {},
   "cell_type": "markdown",
   "metadata": {},
   "source": [
    "## Analysing video with global contractile behaviour"
   ]
  },
  {
   "cell_type": "code",
   "execution_count": 2,
   "metadata": {},
   "outputs": [],
   "source": [
    "df = pd.read_table('~/thomsonlab/simulation/percolation/run-series4/run0013/fiber_position.txt',\n",
    "                skiprows=5,\n",
    "                delim_whitespace=True,\n",
    "                names=['class', 'identity', 'length', 'posX', 'posY', 'dirX', 'dirY', 'endToEnd', 'cosinus', 'organizer'])\n",
    "df = df.dropna(how='any')"
   ]
  },
  {
   "cell_type": "code",
   "execution_count": 3,
   "metadata": {},
   "outputs": [],
   "source": [
    "x = df['posX']\n",
    "y = df['posY']\n",
    "data = np.vstack((x, y))\n",
    "\n",
    "kde = stats.kde.gaussian_kde(data)\n",
    "gx, gy = np.mgrid[x.min():x.max():128j, y.min():y.max():128j]\n",
    "gxy = np.dstack((gx, gy)) # shape is (128, 128, 2)\n",
    "z = np.apply_along_axis(kde, 2, gxy)\n",
    "z = z.reshape(128, 128)\n",
    "\n",
    "center_ix, center_iy = np.unravel_index(z.argmax(), z.shape)\n",
    "center_x = center_ix / 128 * (x.max() - x.min()) + x.min()\n",
    "center_y = center_iy / 128 * (y.max() - y.min()) + y.min()"
   ]
  },
  {
   "cell_type": "code",
   "execution_count": 4,
   "metadata": {},
   "outputs": [
    {
     "data": {
      "image/png": "[encoded data removed]",
      "text/plain": [
       "<Figure size 360x360 with 1 Axes>"
      ]
     },
     "metadata": {
      "needs_background": "light"
     },
     "output_type": "display_data"
    }
   ],
   "source": [
    "fig, ax = plt.subplots(figsize=(5,5))\n",
    "sns.kdeplot(x=df['posX'], y=df['posY'], cmap=\"Reds\", shade=True, bw_adjust=.5)\n",
    "ax.scatter([center_x], [center_y], color='blue')\n",
    "ax.set_xlabel('x coordinate', fontsize=12)\n",
    "ax.set_ylabel('y coordinate', fontsize=12)\n",
    "plt.show()"
   ]
  },
  {
   "attachments": {},
   "cell_type": "markdown",
   "metadata": {},
   "source": [
    "## Analysing video with local contractile behaviour"
   ]
  },
  {
   "cell_type": "code",
   "execution_count": 5,
   "metadata": {},
   "outputs": [],
   "source": [
    "df = pd.read_table('~/thomsonlab/simulation/percolation/run-series4/run0005/fiber_position.txt',\n",
    "                skiprows=5,\n",
    "                delim_whitespace=True,\n",
    "                names=['class', 'identity', 'length', 'posX', 'posY', 'dirX', 'dirY', 'endToEnd', 'cosinus', 'organizer'])\n",
    "df = df.dropna(how='any')"
   ]
  },
  {
   "cell_type": "code",
   "execution_count": 6,
   "metadata": {},
   "outputs": [],
   "source": [
    "x = df['posX']\n",
    "y = df['posY']\n",
    "data = np.vstack((x, y))\n",
    "\n",
    "kde = stats.kde.gaussian_kde(data)\n",
    "gx, gy = np.mgrid[x.min():x.max():128j, y.min():y.max():128j]\n",
    "gxy = np.dstack((gx, gy)) # shape is (128, 128, 2)\n",
    "z = np.apply_along_axis(kde, 2, gxy)\n",
    "z = z.reshape(128, 128)\n",
    "\n",
    "center_ix, center_iy = np.unravel_index(z.argmax(), z.shape)\n",
    "center_x = center_ix / 128 * (x.max() - x.min()) + x.min()\n",
    "center_y = center_iy / 128 * (y.max() - y.min()) + y.min()"
   ]
  },
  {
   "cell_type": "code",
   "execution_count": 7,
   "metadata": {},
   "outputs": [
    {
     "data": {
      "image/png": "[encoded data removed]",
      "text/plain": [
       "<Figure size 360x360 with 1 Axes>"
      ]
     },
     "metadata": {
      "needs_background": "light"
     },
     "output_type": "display_data"
    }
   ],
   "source": [
    "fig, ax = plt.subplots(figsize=(5,5))\n",
    "sns.kdeplot(x=df['posX'], y=df['posY'], cmap=\"Reds\", shade=True, bw_adjust=.5)\n",
    "ax.scatter([center_x], [center_y], color='blue')\n",
    "ax.set_xlabel('x coordinate', fontsize=12)\n",
    "ax.set_ylabel('y coordinate', fontsize=12)\n",
    "plt.show()"
   ]
  },
  {
   "attachments": {},
   "cell_type": "markdown",
   "metadata": {},
   "source": [
    "## Analysing all the runs in the series"
   ]
  },
  {
   "cell_type": "code",
   "execution_count": 10,
   "metadata": {},
   "outputs": [],
   "source": [
    "aster_fraction = []\n",
    "#area_fraction = []\n",
    "for i in range(0, 14):\n",
    "    if i < 10:\n",
    "        fpath = '~/thomsonlab/simulation/percolation/run-series4/run000{}/fiber_position.txt'.format(i)\n",
    "    else:\n",
    "        fpath = '~/thomsonlab/simulation/percolation/run-series4/run00{}/fiber_position.txt'.format(i)\n",
    "    \n",
    "    df = pd.read_table(fpath,\n",
    "                skiprows=5,\n",
    "                delim_whitespace=True,\n",
    "                names=['class', 'identity', 'length', 'posX', 'posY', 'dirX', 'dirY', 'endToEnd', 'cosinus', 'organizer'])\n",
    "    df = df.dropna(how='any')\n",
    "\n",
    "    x = df['posX']\n",
    "    y = df['posY']\n",
    "    data = np.vstack((x, y))\n",
    "\n",
    "    kde = stats.kde.gaussian_kde(data)\n",
    "    gx, gy = np.mgrid[x.min():x.max():128j, y.min():y.max():128j]\n",
    "    gxy = np.dstack((gx, gy)) # shape is (128, 128, 2)\n",
    "    z = np.apply_along_axis(kde, 2, gxy)\n",
    "    z = z.reshape(128, 128)\n",
    "\n",
    "    center_ix, center_iy = np.unravel_index(z.argmax(), z.shape)\n",
    "    center_x = center_ix / 128 * (x.max() - x.min()) + x.min()\n",
    "    center_y = center_iy / 128 * (y.max() - y.min()) + y.min()\n",
    "\n",
    "    df_short = df[df.length == 1]\n",
    "    col = df_short.apply(in_circle, args=(center_x, center_y, 1), axis=1)\n",
    "    df_short = df_short.assign(in_circle=col.values)\n",
    "\n",
    "    #area_fraction = math.pi * R_2**2 / (math.pi * 16.92**2)\n",
    "\n",
    "    aster_fraction.append(sum(df_short['in_circle']) / len(df_short))"
   ]
  },
  {
   "cell_type": "code",
   "execution_count": 11,
   "metadata": {},
   "outputs": [
    {
     "data": {
      "image/png": "[encoded data removed]",
      "text/plain": [
       "<Figure size 360x288 with 1 Axes>"
      ]
     },
     "metadata": {
      "needs_background": "light"
     },
     "output_type": "display_data"
    }
   ],
   "source": [
    "length = np.arange(2, 16, 1)\n",
    "\n",
    "fig, ax = plt.subplots(figsize=(5,4))\n",
    "ax.scatter(length, aster_fraction, color='rebeccapurple')\n",
    "#ax.scatter(length, area_fraction, color='forestgreen')\n",
    "ax.set_xlabel('Lenght of long MTs')\n",
    "ax.set_ylabel('Fraction of short MTs in the aster')\n",
    "ax.legend(['Fraction of MTs in aster', 'Ratio of aster area to total area'])\n",
    "plt.savefig('../figures/percolation.png', dpi=300)\n",
    "plt.show()"
   ]
  }
 ],
 "metadata": {
  "kernelspec": {
   "display_name": "base",
   "language": "python",
   "name": "python3"
  },
  "language_info": {
   "codemirror_mode": {
    "name": "ipython",
    "version": 3
   },
   "file_extension": ".py",
   "mimetype": "text/x-python",
   "name": "python",
   "nbconvert_exporter": "python",
   "pygments_lexer": "ipython3",
   "version": "3.9.12"
  },
  "orig_nbformat": 4,
  "vscode": {
   "interpreter": {
    "hash": "015b106b9e7b11c74dcc40152a35c73b3abfee4457c770490c39a2b8b9503267"
   }
  }
 },
 "nbformat": 4,
 "nbformat_minor": 2
}
