{
 "cells": [
  {
   "cell_type": "code",
   "execution_count": 1,
   "metadata": {},
   "outputs": [],
   "source": [
    "import numpy as np\n",
    "import cv2\n",
    "from skimage.registration import optical_flow_tvl1\n",
    "from scipy.signal import find_peaks\n",
    "from scipy.ndimage import gaussian_filter\n",
    "from scipy.ndimage import gaussian_filter1d\n",
    "import os\n",
    "import matplotlib.pyplot as plt\n",
    "import os\n",
    "import pandas as pd\n",
    "import cv2\n",
    "import numpy as np\n",
    "import os\n",
    "import matplotlib.pyplot as plt\n",
    "import pickle\n",
    "from multiprocess import Pool\n",
    "from tqdm import tqdm\n",
    "\n",
    "\n"
   ]
  },
  {
   "cell_type": "markdown",
   "metadata": {},
   "source": [
    "### Function"
   ]
  },
  {
   "cell_type": "code",
   "execution_count": 2,
   "metadata": {},
   "outputs": [],
   "source": [
    "def perform_PIV(video_path, gridSize=90, smooth=True, sigma=30, velScale=1.6):\n",
    "    print(f\"Processing video: {video_path}\")\n",
    "    \n",
    "    # Directly use video_path instead of vidname\n",
    "    vid = cv2.VideoCapture(video_path)\n",
    "    velocity_data = {}\n",
    "    ret, im1 = vid.read()\n",
    "    yrange, xrange = im1.shape[:2]\n",
    "    Ttot = int(vid.get(cv2.CAP_PROP_FRAME_COUNT))\n",
    "\n",
    "    delta_T = 1\n",
    "    tseries = range(0, Ttot - 1)\n",
    "\n",
    "    # Define meshgrid\n",
    "    x = np.arange(gridSize/2, xrange - gridSize/2 + 1, gridSize)\n",
    "    y = np.arange(gridSize/2, yrange - gridSize/2 + 1, gridSize)\n",
    "    X1, Y1 = np.meshgrid(x, y)\n",
    "    \n",
    "    # Get the base directory of the video\n",
    "    base_directory = os.path.dirname(video_path) + \"PIV_data_fine\"\n",
    "    video_name = os.path.basename(video_path).split('.')[0] + \"_finer\"\n",
    "    \n",
    "    # Create the output directory in the same location as the input video\n",
    "    output_folder = os.path.join(base_directory, video_name)\n",
    "    print(f\"Output folder: {output_folder}\")\n",
    "    \n",
    "    if not os.path.exists(output_folder):\n",
    "        os.makedirs(output_folder)\n",
    "    \n",
    "    # Initial frame read\n",
    "    if im1.ndim == 3:\n",
    "        im1_gray = cv2.cvtColor(im1, cv2.COLOR_BGR2GRAY)\n",
    "    else:\n",
    "        im1_gray = im1\n",
    "    \n",
    "    # Add tqdm for the loop to show the progress bar\n",
    "    for tt in tqdm(tseries[:-1]):\n",
    "        # Read next frame\n",
    "        ret, im2 = vid.read()\n",
    "        if not ret:\n",
    "            print(f\"Couldn't read frame at time {tt}. Skipping...\")\n",
    "            continue\n",
    "\n",
    "        if im2.ndim == 3:\n",
    "            im2_gray = cv2.cvtColor(im2, cv2.COLOR_BGR2GRAY)\n",
    "        else:\n",
    "            im2_gray = im2\n",
    "\n",
    "        # Compute the optical flow using Farneback method\n",
    "        flow = cv2.calcOpticalFlowFarneback(im1_gray, im2_gray, None, 0.5, 3, 15, 3, 5, 1.2, 0)\n",
    "        VX = flow[..., 0]\n",
    "        VY = flow[..., 1]\n",
    "\n",
    "        if smooth:\n",
    "            VX = cv2.GaussianBlur(VX, (0, 0), sigma)\n",
    "            VY = cv2.GaussianBlur(VY, (0, 0), sigma)\n",
    "\n",
    "        UX = cv2.resize(VX, (X1.shape[1], X1.shape[0])) * velScale\n",
    "        UY = cv2.resize(VY, (X1.shape[1], X1.shape[0])) * velScale\n",
    "\n",
    "        # Store the velocity vectors in the dictionary\n",
    "        velocity_data[tt] = (UX, UY)\n",
    "\n",
    "        # Plot velocity vectors without showing them\n",
    "        fig, ax = plt.subplots(figsize=(10, 10))\n",
    "        ax.imshow(im1_gray, cmap='gray')\n",
    "\n",
    "        # Adjust arrow appearance\n",
    "        arrow_width = 0.002  # Adjust for desired arrow width\n",
    "        quiver_scale = 350\n",
    "        head_width = 3\n",
    "        head_length = 5\n",
    "        quiver_plot = ax.quiver(X1, Y1, UX, UY, color='c', scale=quiver_scale, width=arrow_width, headwidth=head_width, headlength=head_length)\n",
    "\n",
    "        plt.axis('off')\n",
    "        plt.savefig(os.path.join(output_folder, f\"velocity_{tt}.png\"), bbox_inches='tight', pad_inches=0, dpi=300)\n",
    "        plt.close(fig)\n",
    "        im1_gray = im2_gray\n",
    "\n",
    "    vid.release()\n",
    "\n",
    "    # After the loop, save the velocity data to a pickle file\n",
    "    with open(os.path.join(output_folder, 'velocity_data.pkl'), 'wb') as f:\n",
    "        pickle.dump(velocity_data, f)\n"
   ]
  },
  {
   "cell_type": "code",
   "execution_count": 3,
   "metadata": {},
   "outputs": [],
   "source": [
    "def process_video(avi_file):\n",
    "    full_path = os.path.join(video_directory, avi_file)\n",
    "    perform_PIV(full_path, gridSize=30)\n",
    "\n"
   ]
  },
  {
   "cell_type": "code",
   "execution_count": 8,
   "metadata": {},
   "outputs": [
    {
     "name": "stdout",
     "output_type": "stream",
     "text": [
      "Processing video: /home/shichenliu/Dropbox/Academics/PhD_phase/Thomson_Lab/local_to_global_pre-print/data/figure_1/correlation_good/55_MT_2uL_correlation.avi\n",
      "Output folder: /home/shichenliu/Dropbox/Academics/PhD_phase/Thomson_Lab/local_to_global_pre-print/data/figure_1/correlation_goodPIV_data_fine/55_MT_2uL_correlation_finer\n"
     ]
    },
    {
     "name": "stderr",
     "output_type": "stream",
     "text": [
      "100%|██████████| 118/118 [08:40<00:00,  4.41s/it]\n"
     ]
    },
    {
     "name": "stdout",
     "output_type": "stream",
     "text": [
      "Processing video: /home/shichenliu/Dropbox/Academics/PhD_phase/Thomson_Lab/local_to_global_pre-print/data/figure_1/correlation_good/5_MT_correlation_45_1ul.avi\n",
      "Output folder: /home/shichenliu/Dropbox/Academics/PhD_phase/Thomson_Lab/local_to_global_pre-print/data/figure_1/correlation_goodPIV_data_fine/5_MT_correlation_45_1ul_finer\n"
     ]
    },
    {
     "name": "stderr",
     "output_type": "stream",
     "text": [
      "100%|██████████| 357/357 [27:23<00:00,  4.60s/it]\n"
     ]
    },
    {
     "name": "stdout",
     "output_type": "stream",
     "text": [
      "Processing video: /home/shichenliu/Dropbox/Academics/PhD_phase/Thomson_Lab/local_to_global_pre-print/data/figure_1/correlation_good/40_MT_2uL_correlation.avi\n",
      "Output folder: /home/shichenliu/Dropbox/Academics/PhD_phase/Thomson_Lab/local_to_global_pre-print/data/figure_1/correlation_goodPIV_data_fine/40_MT_2uL_correlation_finer\n"
     ]
    },
    {
     "name": "stderr",
     "output_type": "stream",
     "text": [
      "100%|██████████| 178/178 [12:54<00:00,  4.35s/it]\n"
     ]
    },
    {
     "name": "stdout",
     "output_type": "stream",
     "text": [
      "Processing video: /home/shichenliu/Dropbox/Academics/PhD_phase/Thomson_Lab/local_to_global_pre-print/data/figure_1/correlation_good/205_MT_correlation_45_1ul.avi\n",
      "Output folder: /home/shichenliu/Dropbox/Academics/PhD_phase/Thomson_Lab/local_to_global_pre-print/data/figure_1/correlation_goodPIV_data_fine/205_MT_correlation_45_1ul_finer\n"
     ]
    },
    {
     "name": "stderr",
     "output_type": "stream",
     "text": [
      "100%|██████████| 357/357 [26:07<00:00,  4.39s/it]\n"
     ]
    },
    {
     "name": "stdout",
     "output_type": "stream",
     "text": [
      "Processing video: /home/shichenliu/Dropbox/Academics/PhD_phase/Thomson_Lab/local_to_global_pre-print/data/figure_1/correlation_good/5_MT_2uL_correlation.avi\n",
      "Output folder: /home/shichenliu/Dropbox/Academics/PhD_phase/Thomson_Lab/local_to_global_pre-print/data/figure_1/correlation_goodPIV_data_fine/5_MT_2uL_correlation_finer\n"
     ]
    },
    {
     "name": "stderr",
     "output_type": "stream",
     "text": [
      "100%|██████████| 178/178 [12:58<00:00,  4.37s/it]\n"
     ]
    },
    {
     "name": "stdout",
     "output_type": "stream",
     "text": [
      "Processing video: /home/shichenliu/Dropbox/Academics/PhD_phase/Thomson_Lab/local_to_global_pre-print/data/figure_1/correlation_good/205_MT_correlation_25ul.avi\n",
      "Output folder: /home/shichenliu/Dropbox/Academics/PhD_phase/Thomson_Lab/local_to_global_pre-print/data/figure_1/correlation_goodPIV_data_fine/205_MT_correlation_25ul_finer\n"
     ]
    },
    {
     "name": "stderr",
     "output_type": "stream",
     "text": [
      "100%|██████████| 357/357 [26:43<00:00,  4.49s/it]\n"
     ]
    },
    {
     "name": "stdout",
     "output_type": "stream",
     "text": [
      "Processing video: /home/shichenliu/Dropbox/Academics/PhD_phase/Thomson_Lab/local_to_global_pre-print/data/figure_1/correlation_good/5_MT_1uL_correlation.avi\n",
      "Output folder: /home/shichenliu/Dropbox/Academics/PhD_phase/Thomson_Lab/local_to_global_pre-print/data/figure_1/correlation_goodPIV_data_fine/5_MT_1uL_correlation_finer\n"
     ]
    },
    {
     "name": "stderr",
     "output_type": "stream",
     "text": [
      "100%|██████████| 178/178 [13:01<00:00,  4.39s/it]\n"
     ]
    },
    {
     "name": "stdout",
     "output_type": "stream",
     "text": [
      "Processing video: /home/shichenliu/Dropbox/Academics/PhD_phase/Thomson_Lab/local_to_global_pre-print/data/figure_1/correlation_good/190_MT_1uL_correlation.avi\n",
      "Output folder: /home/shichenliu/Dropbox/Academics/PhD_phase/Thomson_Lab/local_to_global_pre-print/data/figure_1/correlation_goodPIV_data_fine/190_MT_1uL_correlation_finer\n"
     ]
    },
    {
     "name": "stderr",
     "output_type": "stream",
     "text": [
      "100%|██████████| 193/193 [14:13<00:00,  4.42s/it]\n"
     ]
    },
    {
     "name": "stdout",
     "output_type": "stream",
     "text": [
      "Processing video: /home/shichenliu/Dropbox/Academics/PhD_phase/Thomson_Lab/local_to_global_pre-print/data/figure_1/correlation_good/130_MT_correlation_45ul.avi\n",
      "Output folder: /home/shichenliu/Dropbox/Academics/PhD_phase/Thomson_Lab/local_to_global_pre-print/data/figure_1/correlation_goodPIV_data_fine/130_MT_correlation_45ul_finer\n"
     ]
    },
    {
     "name": "stderr",
     "output_type": "stream",
     "text": [
      "100%|██████████| 357/357 [26:13<00:00,  4.41s/it]\n"
     ]
    },
    {
     "name": "stdout",
     "output_type": "stream",
     "text": [
      "Processing video: /home/shichenliu/Dropbox/Academics/PhD_phase/Thomson_Lab/local_to_global_pre-print/data/figure_1/correlation_good/150_MT_1uL_correlation.avi\n",
      "Output folder: /home/shichenliu/Dropbox/Academics/PhD_phase/Thomson_Lab/local_to_global_pre-print/data/figure_1/correlation_goodPIV_data_fine/150_MT_1uL_correlation_finer\n"
     ]
    },
    {
     "name": "stderr",
     "output_type": "stream",
     "text": [
      "100%|██████████| 243/243 [17:47<00:00,  4.39s/it]\n"
     ]
    },
    {
     "name": "stdout",
     "output_type": "stream",
     "text": [
      "Processing video: /home/shichenliu/Dropbox/Academics/PhD_phase/Thomson_Lab/local_to_global_pre-print/data/figure_1/correlation_good/40_MT_1uL_correlation.avi\n",
      "Output folder: /home/shichenliu/Dropbox/Academics/PhD_phase/Thomson_Lab/local_to_global_pre-print/data/figure_1/correlation_goodPIV_data_fine/40_MT_1uL_correlation_finer\n"
     ]
    },
    {
     "name": "stderr",
     "output_type": "stream",
     "text": [
      "100%|██████████| 178/178 [12:58<00:00,  4.38s/it]\n"
     ]
    },
    {
     "name": "stdout",
     "output_type": "stream",
     "text": [
      "Processing video: /home/shichenliu/Dropbox/Academics/PhD_phase/Thomson_Lab/local_to_global_pre-print/data/figure_1/correlation_good/130_MT_correlation_45_1ul.avi\n",
      "Output folder: /home/shichenliu/Dropbox/Academics/PhD_phase/Thomson_Lab/local_to_global_pre-print/data/figure_1/correlation_goodPIV_data_fine/130_MT_correlation_45_1ul_finer\n"
     ]
    },
    {
     "name": "stderr",
     "output_type": "stream",
     "text": [
      "100%|██████████| 357/357 [26:17<00:00,  4.42s/it]\n"
     ]
    },
    {
     "name": "stdout",
     "output_type": "stream",
     "text": [
      "Processing video: /home/shichenliu/Dropbox/Academics/PhD_phase/Thomson_Lab/local_to_global_pre-print/data/figure_1/correlation_good/55_MT_1uL_correlation.avi\n",
      "Output folder: /home/shichenliu/Dropbox/Academics/PhD_phase/Thomson_Lab/local_to_global_pre-print/data/figure_1/correlation_goodPIV_data_fine/55_MT_1uL_correlation_finer\n"
     ]
    },
    {
     "name": "stderr",
     "output_type": "stream",
     "text": [
      "100%|██████████| 118/118 [08:39<00:00,  4.41s/it]\n"
     ]
    },
    {
     "name": "stdout",
     "output_type": "stream",
     "text": [
      "Processing video: /home/shichenliu/Dropbox/Academics/PhD_phase/Thomson_Lab/local_to_global_pre-print/data/figure_1/correlation_good/235_MT_correlation_15ul.avi\n",
      "Output folder: /home/shichenliu/Dropbox/Academics/PhD_phase/Thomson_Lab/local_to_global_pre-print/data/figure_1/correlation_goodPIV_data_fine/235_MT_correlation_15ul_finer\n"
     ]
    },
    {
     "name": "stderr",
     "output_type": "stream",
     "text": [
      "100%|██████████| 357/357 [27:46<00:00,  4.67s/it]\n"
     ]
    },
    {
     "name": "stdout",
     "output_type": "stream",
     "text": [
      "Processing video: /home/shichenliu/Dropbox/Academics/PhD_phase/Thomson_Lab/local_to_global_pre-print/data/figure_1/correlation_good/80_MT_1uL_correlation.avi\n",
      "Output folder: /home/shichenliu/Dropbox/Academics/PhD_phase/Thomson_Lab/local_to_global_pre-print/data/figure_1/correlation_goodPIV_data_fine/80_MT_1uL_correlation_finer\n"
     ]
    },
    {
     "name": "stderr",
     "output_type": "stream",
     "text": [
      "100%|██████████| 357/357 [26:21<00:00,  4.43s/it]\n"
     ]
    },
    {
     "name": "stdout",
     "output_type": "stream",
     "text": [
      "Processing video: /home/shichenliu/Dropbox/Academics/PhD_phase/Thomson_Lab/local_to_global_pre-print/data/figure_1/correlation_good/0_MT_1uL_correlation.avi\n",
      "Output folder: /home/shichenliu/Dropbox/Academics/PhD_phase/Thomson_Lab/local_to_global_pre-print/data/figure_1/correlation_goodPIV_data_fine/0_MT_1uL_correlation_finer\n"
     ]
    },
    {
     "name": "stderr",
     "output_type": "stream",
     "text": [
      "100%|██████████| 358/358 [26:31<00:00,  4.45s/it]\n"
     ]
    }
   ],
   "source": [
    "# Directory containing your .avi videos\n",
    "video_directory = \"/home/shichenliu/Dropbox/Academics/PhD_phase/Thomson_Lab/local_to_global_pre-print/data/figure_1/correlation_good\"\n",
    "\n",
    "# Get a list of all .avi files in the specified directory\n",
    "avi_files = [os.path.join(video_directory, f) for f in os.listdir(video_directory) if f.endswith('.avi')]\n",
    "\n",
    "# Process each video without multiprocessing\n",
    "for video_path in avi_files:\n",
    "    perform_PIV(video_path, gridSize=30)\n"
   ]
  },
  {
   "cell_type": "code",
   "execution_count": null,
   "metadata": {},
   "outputs": [],
   "source": []
  }
 ],
 "metadata": {
  "kernelspec": {
   "display_name": "active_matter_amd",
   "language": "python",
   "name": "python3"
  },
  "language_info": {
   "codemirror_mode": {
    "name": "ipython",
    "version": 3
   },
   "file_extension": ".py",
   "mimetype": "text/x-python",
   "name": "python",
   "nbconvert_exporter": "python",
   "pygments_lexer": "ipython3",
   "version": "3.10.12"
  },
  "orig_nbformat": 4
 },
 "nbformat": 4,
 "nbformat_minor": 2
}
